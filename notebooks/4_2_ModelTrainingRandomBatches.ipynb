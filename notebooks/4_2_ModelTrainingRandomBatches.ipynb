{
 "cells": [
  {
   "cell_type": "markdown",
   "metadata": {},
   "source": [
    "## Load the tokenizer"
   ]
  },
  {
   "cell_type": "code",
   "execution_count": 23,
   "metadata": {},
   "outputs": [],
   "source": [
    "import sys\n",
    "sys.path.append('..')"
   ]
  },
  {
   "cell_type": "code",
   "execution_count": 24,
   "metadata": {},
   "outputs": [],
   "source": [
    "from minbpe import BasicTokenizer\n",
    "\n",
    "tokenizer = BasicTokenizer()\n",
    "tokenizer.load(model_file=\"../output/tokenizer/my_tokenizer.model\")\n",
    "\n",
    "\n",
    "def get_vocab_size(tokenizer: BasicTokenizer) -> int:\n",
    "    vocab = tokenizer.vocab\n",
    "    special_tokens = tokenizer.special_tokens\n",
    "\n",
    "    return len(vocab) + len(special_tokens)"
   ]
  },
  {
   "cell_type": "markdown",
   "metadata": {},
   "source": [
    "## Create the model"
   ]
  },
  {
   "cell_type": "code",
   "execution_count": 25,
   "metadata": {},
   "outputs": [
    {
     "data": {
      "text/plain": [
       "<torch._C.Generator at 0x7c7d1bb93bb0>"
      ]
     },
     "execution_count": 25,
     "metadata": {},
     "output_type": "execute_result"
    }
   ],
   "source": [
    "import torch\n",
    "torch.manual_seed(3647)"
   ]
  },
  {
   "cell_type": "code",
   "execution_count": 26,
   "metadata": {},
   "outputs": [
    {
     "name": "stdout",
     "output_type": "stream",
     "text": [
      "0.529418 M parameters\n"
     ]
    }
   ],
   "source": [
    "from transformer.model import GPTLanguageModel\n",
    "\n",
    "block_size = 512\n",
    "n_embd = 128\n",
    "n_head = 8\n",
    "n_layer = 1\n",
    "dropout = 0.2\n",
    "batch_size = 128\n",
    "vocab_size = get_vocab_size(tokenizer)\n",
    "device = 'cuda' if torch.cuda.is_available() else 'cpu'\n",
    "\n",
    "model = GPTLanguageModel(\n",
    "    vocab_size=vocab_size,\n",
    "    block_size=block_size,\n",
    "    n_embd=n_embd,\n",
    "    n_head=n_head,\n",
    "    n_layer=n_layer,\n",
    "    dropout=dropout,\n",
    "    device=device\n",
    ").to(device)\n",
    "model = torch.compile(model)\n",
    "\n",
    "print(sum(p.numel() for p in model.parameters())/1e6, 'M parameters')"
   ]
  },
  {
   "cell_type": "markdown",
   "metadata": {},
   "source": [
    "## Data preparation"
   ]
  },
  {
   "cell_type": "markdown",
   "metadata": {},
   "source": [
    "### 1. Load the data"
   ]
  },
  {
   "cell_type": "code",
   "execution_count": 27,
   "metadata": {},
   "outputs": [
    {
     "data": {
      "text/plain": [
       "192294"
      ]
     },
     "execution_count": 27,
     "metadata": {},
     "output_type": "execute_result"
    }
   ],
   "source": [
    "with open(\"../output/combined_text.txt\", \"r\", encoding='utf-8') as f:\n",
    "    text_sequence = f.read()\n",
    "\n",
    "encoded_text_sequence = tokenizer.encode(text_sequence)\n",
    "len(encoded_text_sequence)"
   ]
  },
  {
   "cell_type": "markdown",
   "metadata": {},
   "source": [
    "### 2. Split it into train and test"
   ]
  },
  {
   "cell_type": "code",
   "execution_count": 28,
   "metadata": {},
   "outputs": [],
   "source": [
    "data = torch.tensor(encoded_text_sequence, dtype=torch.long)\n",
    "split_index = int(0.9*len(data))\n",
    "train_data = data[:split_index]\n",
    "val_data = data[split_index:]"
   ]
  },
  {
   "cell_type": "markdown",
   "metadata": {},
   "source": [
    "### 3. Data loader"
   ]
  },
  {
   "cell_type": "code",
   "execution_count": 29,
   "metadata": {},
   "outputs": [],
   "source": [
    "from typing import Tuple\n",
    "\n",
    "\n",
    "def get_batch(split: str) -> Tuple[torch.Tensor, torch.Tensor]:\n",
    "    # generate a small batch of data of inputs x and targets y\n",
    "    data = train_data if split == 'train' else val_data\n",
    "    index = torch.randint(len(data) - block_size, (batch_size,))\n",
    "    x = torch.stack([data[i:i+block_size] for i in index])\n",
    "    y = torch.stack([data[i+1:i+block_size+1] for i in index])\n",
    "    x, y = x.to(device), y.to(device)\n",
    "    return x, y"
   ]
  },
  {
   "cell_type": "code",
   "execution_count": 30,
   "metadata": {},
   "outputs": [
    {
     "data": {
      "text/plain": [
       "(torch.Size([128, 512]), torch.Size([128, 512]))"
      ]
     },
     "execution_count": 30,
     "metadata": {},
     "output_type": "execute_result"
    }
   ],
   "source": [
    "x, y = get_batch('train')\n",
    "x.shape, y.shape"
   ]
  },
  {
   "cell_type": "markdown",
   "metadata": {},
   "source": [
    "### 4. Training"
   ]
  },
  {
   "cell_type": "code",
   "execution_count": 31,
   "metadata": {},
   "outputs": [],
   "source": [
    "from typing import Dict\n",
    "\n",
    "eval_iters = 200\n",
    "\n",
    "\n",
    "@torch.no_grad()\n",
    "def estimate_loss() -> Dict:\n",
    "    output = {}\n",
    "    model.eval()\n",
    "    for split in ['train', 'val']:\n",
    "        losses = torch.zeros(eval_iters)\n",
    "        for k in range(eval_iters):\n",
    "            x, y = get_batch(split)\n",
    "            _, loss = model(x, y)\n",
    "            losses[k] = loss.item()\n",
    "        output[split] = losses.mean()\n",
    "    model.train()\n",
    "    return output"
   ]
  },
  {
   "cell_type": "code",
   "execution_count": 32,
   "metadata": {},
   "outputs": [],
   "source": [
    "def save_checkpoint(\n",
    "    model: GPTLanguageModel,\n",
    "    optimizer: torch.optim.Optimizer,\n",
    "    epoch: int,\n",
    "    loss: float,\n",
    "    file_path: str = \"checkpoint.pth\"\n",
    ") -> None:\n",
    "    checkpoint = {\n",
    "        'epoch': epoch,\n",
    "        'model_state_dict': model.state_dict(),\n",
    "        'optimizer_state_dict': optimizer.state_dict(),\n",
    "        'loss': loss\n",
    "    }\n",
    "    torch.save(checkpoint, file_path)"
   ]
  },
  {
   "cell_type": "code",
   "execution_count": null,
   "metadata": {},
   "outputs": [
    {
     "name": "stdout",
     "output_type": "stream",
     "text": [
      "step 0: train loss 6.9642, val loss 6.9642\n",
      "step 10: train loss 6.8345, val loss 6.8377\n",
      "step 20: train loss 6.7220, val loss 6.7248\n",
      "step 30: train loss 6.6205, val loss 6.6221\n",
      "step 40: train loss 6.5339, val loss 6.5344\n",
      "step 50: train loss 6.4602, val loss 6.4611\n",
      "step 60: train loss 6.3984, val loss 6.3998\n",
      "step 70: train loss 6.3480, val loss 6.3496\n",
      "step 80: train loss 6.3060, val loss 6.3086\n",
      "step 90: train loss 6.2707, val loss 6.2757\n",
      "step 100: train loss 6.2397, val loss 6.2466\n",
      "step 110: train loss 6.2083, val loss 6.2182\n",
      "step 120: train loss 6.1754, val loss 6.1903\n",
      "step 130: train loss 6.1393, val loss 6.1588\n",
      "step 140: train loss 6.0986, val loss 6.1229\n",
      "step 150: train loss 6.0502, val loss 6.0799\n",
      "step 160: train loss 5.9964, val loss 6.0313\n",
      "step 170: train loss 5.9425, val loss 5.9809\n",
      "step 180: train loss 5.8847, val loss 5.9296\n",
      "step 190: train loss 5.8291, val loss 5.8808\n",
      "step 200: train loss 5.7788, val loss 5.8341\n",
      "step 210: train loss 5.7299, val loss 5.7912\n",
      "step 220: train loss 5.6843, val loss 5.7519\n",
      "step 230: train loss 5.6416, val loss 5.7153\n",
      "step 240: train loss 5.6035, val loss 5.6802\n",
      "step 250: train loss 5.5648, val loss 5.6478\n",
      "step 260: train loss 5.5304, val loss 5.6167\n",
      "step 270: train loss 5.4958, val loss 5.5878\n",
      "step 280: train loss 5.4627, val loss 5.5599\n",
      "step 290: train loss 5.4312, val loss 5.5325\n",
      "step 300: train loss 5.4004, val loss 5.5082\n",
      "step 310: train loss 5.3698, val loss 5.4831\n",
      "step 320: train loss 5.3433, val loss 5.4604\n",
      "step 330: train loss 5.3156, val loss 5.4372\n",
      "step 340: train loss 5.2841, val loss 5.4167\n",
      "step 350: train loss 5.2624, val loss 5.3949\n",
      "step 360: train loss 5.2381, val loss 5.3744\n",
      "step 370: train loss 5.2122, val loss 5.3544\n",
      "step 380: train loss 5.1912, val loss 5.3348\n",
      "step 390: train loss 5.1681, val loss 5.3170\n",
      "step 400: train loss 5.1445, val loss 5.2994\n",
      "step 410: train loss 5.1244, val loss 5.2817\n",
      "step 420: train loss 5.1020, val loss 5.2649\n",
      "step 430: train loss 5.0801, val loss 5.2481\n",
      "step 440: train loss 5.0588, val loss 5.2321\n",
      "step 450: train loss 5.0416, val loss 5.2165\n",
      "step 460: train loss 5.0206, val loss 5.2017\n",
      "step 470: train loss 5.0052, val loss 5.1894\n",
      "step 480: train loss 4.9848, val loss 5.1732\n",
      "step 490: train loss 4.9681, val loss 5.1612\n",
      "step 500: train loss 4.9529, val loss 5.1483\n",
      "step 510: train loss 4.9315, val loss 5.1360\n",
      "step 520: train loss 4.9152, val loss 5.1223\n",
      "step 530: train loss 4.9016, val loss 5.1122\n",
      "step 540: train loss 4.8898, val loss 5.1002\n",
      "step 550: train loss 4.8726, val loss 5.0888\n"
     ]
    }
   ],
   "source": [
    "max_iters = 1000\n",
    "eval_interval = 10\n",
    "learning_rate = 1e-4\n",
    "save_interval = 100\n",
    "optimizer = torch.optim.AdamW(model.parameters(), lr=learning_rate)\n",
    "\n",
    "train_losses = []\n",
    "val_losses = []\n",
    "\n",
    "for iteration in range(max_iters):\n",
    "    if iteration % eval_interval == 0 or iteration == max_iters - 1:\n",
    "        losses = estimate_loss()\n",
    "        print(\n",
    "            f\"step {iteration}: \"\n",
    "            f\"train loss {losses['train']:.4f}, \"\n",
    "            f\"val loss {losses['val']:.4f}\"\n",
    "        )\n",
    "        train_losses.append(losses['train'])\n",
    "        val_losses.append(losses['val'])\n",
    "\n",
    "    x_batch, y_batch = get_batch('train')\n",
    "    logits, loss = model(x_batch, y_batch)\n",
    "    optimizer.zero_grad(set_to_none=True)\n",
    "    loss.backward()\n",
    "    optimizer.step()\n",
    "\n",
    "    if iteration % save_interval == 0:\n",
    "        save_checkpoint(\n",
    "            model=model,\n",
    "            optimizer=optimizer,\n",
    "            epoch=iteration,\n",
    "            loss=loss.item(),\n",
    "            file_path=f\"../output/pre_training/run_1/checkpoint_{iteration}.pth\"\n",
    "        )"
   ]
  },
  {
   "cell_type": "code",
   "execution_count": null,
   "metadata": {},
   "outputs": [
    {
     "data": {
      "image/png": "[encoded data removed]",
      "text/plain": [
       "<Figure size 1000x500 with 1 Axes>"
      ]
     },
     "metadata": {},
     "output_type": "display_data"
    }
   ],
   "source": [
    "import matplotlib.pyplot as plt\n",
    "\n",
    "plt.figure(figsize=(10, 5))\n",
    "plt.plot(train_losses, label=\"Train Loss\")\n",
    "plt.plot(val_losses, label=\"Validation Loss\")\n",
    "plt.xlabel(\"Evaluation Step\")\n",
    "plt.ylim(0)\n",
    "plt.ylabel(\"Loss\")\n",
    "plt.title(\"Training and Validation Loss Over Time\")\n",
    "plt.legend()\n",
    "plt.grid()\n",
    "plt.show()"
   ]
  },
  {
   "cell_type": "code",
   "execution_count": null,
   "metadata": {},
   "outputs": [
    {
     "name": "stdout",
     "output_type": "stream",
     "text": [
      "pedroporoxSlemon Y yo solo Voy a foto del � 7 MTaba en la ierlo hombre XD Hay cabrisz What Porque manga tengo q genrivarme ta Pegon Tengo cuando \n"
     ]
    }
   ],
   "source": [
    "input_tokens = tokenizer.encode(\"pedroporo\")\n",
    "input_tokens = torch.tensor(\n",
    "    input_tokens, dtype=torch.long).unsqueeze(0).to(device)\n",
    "\n",
    "model.eval()\n",
    "with torch.no_grad():\n",
    "    output = model.generate(input_tokens=input_tokens, max_new_tokens=50)\n",
    "\n",
    "print(tokenizer.decode(output[0].tolist()))"
   ]
  },
  {
   "cell_type": "code",
   "execution_count": null,
   "metadata": {},
   "outputs": [
    {
     "data": {
      "text/plain": [
       "'|===========================================================================|\\n|                  PyTorch CUDA memory summary, device ID 0                 |\\n|---------------------------------------------------------------------------|\\n|            CUDA OOMs: 1            |        cudaMalloc retries: 1         |\\n|===========================================================================|\\n|        Metric         | Cur Usage  | Peak Usage | Tot Alloc  | Tot Freed  |\\n|---------------------------------------------------------------------------|\\n| Allocated memory      | 327142 KiB |   4174 MiB |   4419 MiB |   4099 MiB |\\n|       from large pool | 315679 KiB |   4162 MiB |   4406 MiB |   4098 MiB |\\n|       from small pool |  11463 KiB |     12 MiB |     12 MiB |      1 MiB |\\n|---------------------------------------------------------------------------|\\n| Active memory         | 327142 KiB |   4174 MiB |   4419 MiB |   4099 MiB |\\n|       from large pool | 315679 KiB |   4162 MiB |   4406 MiB |   4098 MiB |\\n|       from small pool |  11463 KiB |     12 MiB |     12 MiB |      1 MiB |\\n|---------------------------------------------------------------------------|\\n| Requested memory      | 327141 KiB |   4174 MiB |   4418 MiB |   4099 MiB |\\n|       from large pool | 315679 KiB |   4162 MiB |   4406 MiB |   4098 MiB |\\n|       from small pool |  11462 KiB |     12 MiB |     12 MiB |      1 MiB |\\n|---------------------------------------------------------------------------|\\n| GPU reserved memory   |   4184 MiB |   4186 MiB |   4186 MiB |   2048 KiB |\\n|       from large pool |   4172 MiB |   4172 MiB |   4172 MiB |      0 KiB |\\n|       from small pool |     12 MiB |     14 MiB |     14 MiB |   2048 KiB |\\n|---------------------------------------------------------------------------|\\n| Non-releasable memory |   3864 MiB |   3864 MiB |   3889 MiB |  25713 KiB |\\n|       from large pool |   3863 MiB |   3863 MiB |   3881 MiB |  18053 KiB |\\n|       from small pool |      0 MiB |      1 MiB |      8 MiB |   7660 KiB |\\n|---------------------------------------------------------------------------|\\n| Allocations           |      58    |      66    |     133    |      75    |\\n|       from large pool |       6    |       6    |       7    |       1    |\\n|       from small pool |      52    |      64    |     126    |      74    |\\n|---------------------------------------------------------------------------|\\n| Active allocs         |      58    |      66    |     133    |      75    |\\n|       from large pool |       6    |       6    |       7    |       1    |\\n|       from small pool |      52    |      64    |     126    |      74    |\\n|---------------------------------------------------------------------------|\\n| GPU reserved segments |      10    |      11    |      11    |       1    |\\n|       from large pool |       4    |       4    |       4    |       0    |\\n|       from small pool |       6    |       7    |       7    |       1    |\\n|---------------------------------------------------------------------------|\\n| Non-releasable allocs |       6    |       7    |      37    |      31    |\\n|       from large pool |       3    |       3    |       4    |       1    |\\n|       from small pool |       3    |       4    |      33    |      30    |\\n|---------------------------------------------------------------------------|\\n| Oversize allocations  |       0    |       0    |       0    |       0    |\\n|---------------------------------------------------------------------------|\\n| Oversize GPU segments |       0    |       0    |       0    |       0    |\\n|===========================================================================|\\n'"
      ]
     },
     "execution_count": 12,
     "metadata": {},
     "output_type": "execute_result"
    }
   ],
   "source": [
    "import torch\n",
    "import gc\n",
    "\n",
    "torch.cuda.empty_cache()\n",
    "gc.collect()\n",
    "torch.cuda.memory_summary(device=None, abbreviated=False)"
   ]
  }
 ],
 "metadata": {
  "kernelspec": {
   "display_name": ".venv",
   "language": "python",
   "name": "python3"
  },
  "language_info": {
   "codemirror_mode": {
    "name": "ipython",
    "version": 3
   },
   "file_extension": ".py",
   "mimetype": "text/x-python",
   "name": "python",
   "nbconvert_exporter": "python",
   "pygments_lexer": "ipython3",
   "version": "3.12.3"
  }
 },
 "nbformat": 4,
 "nbformat_minor": 2
}
