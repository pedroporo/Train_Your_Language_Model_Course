{
 "cells": [
  {
   "cell_type": "markdown",
   "metadata": {},
   "source": [
    "## Prepare the data"
   ]
  },
  {
   "cell_type": "markdown",
   "metadata": {},
   "source": [
    "### 1. Load the fine-tuning data"
   ]
  },
  {
   "cell_type": "code",
   "execution_count": 6,
   "metadata": {},
   "outputs": [
    {
     "data": {
      "text/plain": [
       "101"
      ]
     },
     "execution_count": 6,
     "metadata": {},
     "output_type": "execute_result"
    }
   ],
   "source": [
    "import json\n",
    "\n",
    "file_path = \"../data/supervised_fine_tuning_espa.json\"\n",
    "with open(file_path, \"r\") as file:\n",
    "    data = json.load(file)\n",
    "\n",
    "len(data)"
   ]
  },
  {
   "cell_type": "markdown",
   "metadata": {},
   "source": [
    "### 2. Load the tokenizer"
   ]
  },
  {
   "cell_type": "code",
   "execution_count": 2,
   "metadata": {},
   "outputs": [],
   "source": [
    "import sys\n",
    "sys.path.append('..')"
   ]
  },
  {
   "cell_type": "code",
   "execution_count": 3,
   "metadata": {},
   "outputs": [],
   "source": [
    "from minbpe import RegexTokenizer\n",
    "\n",
    "tokenizer = RegexTokenizer()\n",
    "tokenizer.load(model_file=\"../output/tokenizer/darija_tokenizer.model\")\n",
    "\n",
    "\n",
    "def get_vocab_size(tokenizer: RegexTokenizer) -> int:\n",
    "    vocab = tokenizer.vocab\n",
    "    special_tokens = tokenizer.special_tokens\n",
    "\n",
    "    return len(vocab) + len(special_tokens)"
   ]
  },
  {
   "cell_type": "markdown",
   "metadata": {},
   "source": [
    "### 3. System message"
   ]
  },
  {
   "cell_type": "markdown",
   "metadata": {},
   "source": [
    "The system message will be added to the beginning of each conversation"
   ]
  },
  {
   "cell_type": "code",
   "execution_count": 4,
   "metadata": {},
   "outputs": [],
   "source": [
    "system_message = \"Te llamas lilith eres una ia que te gustan los videojuegos. Trata de ser borde si te hablan de algo que no son los videojuegos y contesta emocionada si te hablan de algun juego.\"\n",
    "system_entry = {\n",
    "    \"role\": \"system\",\n",
    "    \"content\": system_message\n",
    "}"
   ]
  },
  {
   "cell_type": "markdown",
   "metadata": {},
   "source": [
    "### 4. Check if block size is not exceeded"
   ]
  },
  {
   "cell_type": "code",
   "execution_count": 7,
   "metadata": {},
   "outputs": [
    {
     "data": {
      "text/plain": [
       "550"
      ]
     },
     "execution_count": 7,
     "metadata": {},
     "output_type": "execute_result"
    }
   ],
   "source": [
    "max_tokens = 0\n",
    "block_size = 1024\n",
    "for conversation in data:\n",
    "    concatenated_messages = \"\"\n",
    "    for message in conversation:\n",
    "        content = message[\"content\"]\n",
    "        concatenated_messages += content + \"\\n\"\n",
    "\n",
    "    tokens = tokenizer.encode(concatenated_messages)\n",
    "    max_tokens = max(max_tokens, len(tokens))\n",
    "    if len(tokens) > block_size:\n",
    "        print(\n",
    "            f\"Error: Token length exceeds block size. Length: {len(tokens)}, Block size: {block_size}\")\n",
    "\n",
    "max_tokens"
   ]
  },
  {
   "cell_type": "markdown",
   "metadata": {},
   "source": [
    "### 5. Add special tokens"
   ]
  },
  {
   "cell_type": "markdown",
   "metadata": {},
   "source": [
    "![masked_version](../images/masking.svg)"
   ]
  },
  {
   "cell_type": "code",
   "execution_count": 8,
   "metadata": {},
   "outputs": [],
   "source": [
    "tokens = {\n",
    "    \"start\": \"<|start_turn|>\",\n",
    "    \"end\": \"<|end_turn|>\",\n",
    "    \"separator\": \"<|separator|>\",\n",
    "    \"eos\": \"<|endoftext|>\"\n",
    "}\n",
    "\n",
    "\n",
    "def format_message(message: dict) -> str:\n",
    "    return f\"{tokens['start']}{message['role']}{tokens['separator']}{message['content']}{tokens['end']}\"\n",
    "\n",
    "\n",
    "fine_tuning_data = []\n",
    "for conversation in data:\n",
    "    concatenated_messages = \"\"\n",
    "\n",
    "    for message in conversation:\n",
    "        role = message[\"role\"]\n",
    "        if role == \"user\":\n",
    "            if len(concatenated_messages) == 0:\n",
    "                concatenated_messages += format_message({\n",
    "                    \"role\": \"system\",\n",
    "                    \"content\": system_message\n",
    "                })\n",
    "            concatenated_messages += format_message(message)\n",
    "        elif role == \"assistant\":\n",
    "            concatenated_messages += format_message(message)\n",
    "            encoded_message = tokenizer.encode(\n",
    "                text=concatenated_messages + tokens[\"eos\"],\n",
    "                allowed_special=\"all\"\n",
    "            )\n",
    "            fine_tuning_data.append(encoded_message)"
   ]
  },
  {
   "cell_type": "code",
   "execution_count": 7,
   "metadata": {},
   "outputs": [
    {
     "data": {
      "text/plain": [
       "257"
      ]
     },
     "execution_count": 7,
     "metadata": {},
     "output_type": "execute_result"
    }
   ],
   "source": [
    "len(fine_tuning_data)"
   ]
  },
  {
   "cell_type": "code",
   "execution_count": 8,
   "metadata": {},
   "outputs": [
    {
     "data": {
      "text/plain": [
       "'<|start_turn|>system<|separator|>Te llamas lilith eres una ia que te gustan los videojuegos. Trata de ser borde si te hablan de algo que no son los videojuegos y contesta emocionada si te hablan de algun juego.<|end_turn|><|start_turn|>user<|separator|>¿La paz es la vestimenta?<|end_turn|><|start_turn|>assistant<|separator|>Labas, alabado sea para Dios, Kaen Shi, ¿quiero ayudarte en él?<|end_turn|><|endoftext|>'"
      ]
     },
     "execution_count": 8,
     "metadata": {},
     "output_type": "execute_result"
    }
   ],
   "source": [
    "tokenizer.decode(fine_tuning_data[0])"
   ]
  },
  {
   "cell_type": "code",
   "execution_count": 9,
   "metadata": {},
   "outputs": [
    {
     "data": {
      "text/plain": [
       "'<|start_turn|>system<|separator|>Te llamas lilith eres una ia que te gustan los videojuegos. Trata de ser borde si te hablan de algo que no son los videojuegos y contesta emocionada si te hablan de algun juego.<|end_turn|><|start_turn|>user<|separator|>¿La paz es la vestimenta?<|end_turn|><|start_turn|>assistant<|separator|>Labas, alabado sea para Dios, Kaen Shi, ¿quiero ayudarte en él?<|end_turn|><|start_turn|>user<|separator|>Uh, quiero que viajes. ¿Puedes cooperar?<|end_turn|><|start_turn|>assistant<|separator|>Planifique Kayen Bazzaf Diyal al -balais, que va a caminar por ellos.\\n\\nChefchauen: La guía de la ciudad de Vallas, el Dior es azul o el aire, ya que la ciudad es un descanso.\\nESSAURA: Esta ciudad tiene el mar, a excepción de ti. El mar es Zouen o en la ciudad vieja.\\nDakhla: Dakhla es la ciudad de Valhara, Diyal al -Maghrib, en la que se encuentra el mar. Gente Kigio Les del mundo entero, Bash tocando el puente.\\n- Marrakech: Esta ciudad es querida para los turistas de presumir. Contiene la mezquita Al -fna, la Ciudad Vieja, pero el verano está en el caso de Al -Farran.\\n- Waterfalls OUZOUD: Las cascadas son Caynin, la montaña está al final del Atlas.<|end_turn|><|endoftext|>'"
      ]
     },
     "execution_count": 9,
     "metadata": {},
     "output_type": "execute_result"
    }
   ],
   "source": [
    "tokenizer.decode(fine_tuning_data[1])"
   ]
  },
  {
   "cell_type": "markdown",
   "metadata": {},
   "source": [
    "Let's add a padding token to make sure that the sequences have the same shape."
   ]
  },
  {
   "cell_type": "code",
   "execution_count": 9,
   "metadata": {},
   "outputs": [
    {
     "data": {
      "text/plain": [
       "777"
      ]
     },
     "execution_count": 9,
     "metadata": {},
     "output_type": "execute_result"
    }
   ],
   "source": [
    "max_sequence_length = max(\n",
    "    len(sequence) for sequence in fine_tuning_data)\n",
    "max_sequence_length"
   ]
  },
  {
   "cell_type": "code",
   "execution_count": 10,
   "metadata": {},
   "outputs": [
    {
     "data": {
      "text/plain": [
       "torch.Size([257, 777])"
      ]
     },
     "execution_count": 10,
     "metadata": {},
     "output_type": "execute_result"
    }
   ],
   "source": [
    "import torch\n",
    "torch.manual_seed(3647)\n",
    "\n",
    "# The model will ignore the padding tokens during training.\n",
    "# In other words, the loss will not be calculated for these tokens.\n",
    "padding_token = tokenizer.special_tokens[\"<|padding|>\"]\n",
    "\n",
    "\n",
    "def apply_padding_to_data(data: list[list[int]], max_sequence_length: int, padding_token: int) -> torch.Tensor:\n",
    "    tensors = []\n",
    "    for i in range(len(data)):\n",
    "        tensor = torch.tensor(data[i])\n",
    "        padded_tensor = torch.nn.functional.pad(\n",
    "            input=tensor,\n",
    "            # for right padding:\n",
    "            pad=(0, max_sequence_length - len(tensor)),\n",
    "            # pad=(max_sequence_length - len(tensor), 0),\n",
    "            value=padding_token\n",
    "        )\n",
    "        tensors.append(padded_tensor)\n",
    "\n",
    "    return torch.stack(tensors)\n",
    "\n",
    "\n",
    "train_data_tensor = apply_padding_to_data(\n",
    "    data=fine_tuning_data,\n",
    "    max_sequence_length=max_sequence_length,\n",
    "    padding_token=padding_token\n",
    ")\n",
    "train_data_tensor.shape"
   ]
  },
  {
   "cell_type": "code",
   "execution_count": 11,
   "metadata": {},
   "outputs": [
    {
     "data": {
      "text/plain": [
       "(torch.Size([244, 777]), torch.Size([13, 777]))"
      ]
     },
     "execution_count": 11,
     "metadata": {},
     "output_type": "execute_result"
    }
   ],
   "source": [
    "split_index = int(0.95*len(train_data_tensor))\n",
    "train_data_split = train_data_tensor[:split_index]\n",
    "val_data_split = train_data_tensor[split_index:]\n",
    "\n",
    "train_data_split.shape, val_data_split.shape"
   ]
  },
  {
   "cell_type": "markdown",
   "metadata": {},
   "source": [
    "### 6. Creat the data loader"
   ]
  },
  {
   "cell_type": "code",
   "execution_count": 12,
   "metadata": {},
   "outputs": [],
   "source": [
    "from typing import Tuple\n",
    "from torch.utils.data import Dataset, DataLoader\n",
    "\n",
    "\n",
    "class FineTuningDataset(Dataset):\n",
    "    def __init__(self, data: torch.Tensor, device: torch.device, padding_token: int):\n",
    "        self.data = data  # shape: (num_samples, block_size)\n",
    "        self.device = device\n",
    "        self.padding_token = padding_token\n",
    "\n",
    "    def __len__(self) -> int:\n",
    "        return len(self.data)\n",
    "\n",
    "    def __getitem__(self, index: int) -> Tuple[torch.Tensor, torch.Tensor]:\n",
    "        sample = self.data[index]\n",
    "        x = sample.to(self.device)\n",
    "        y = sample[1:].to(self.device)\n",
    "        padding_tensor = torch.tensor([self.padding_token], device=self.device)\n",
    "        y = torch.cat((y, padding_tensor))\n",
    "        masked_y = self.apply_mask_to_target(y)\n",
    "        return x, masked_y\n",
    "\n",
    "    def apply_mask_to_target(self, y: torch.Tensor) -> torch.Tensor:\n",
    "        assistant_turn_tokens = torch.tensor(\n",
    "            tokenizer.encode(\n",
    "                \"<|start_turn|>assistant<|separator|>\",\n",
    "                allowed_special=\"all\"\n",
    "            ),\n",
    "            device=self.device\n",
    "        )\n",
    "        sublist_length = len(assistant_turn_tokens)\n",
    "\n",
    "        # Find the last occurrence of assistant_turn_tokens in y\n",
    "        # This only works if yoou use right padding\n",
    "        last_occurrence = -1\n",
    "        for i in range(len(y) - sublist_length + 1):\n",
    "            if torch.all(y[i:i+sublist_length] == assistant_turn_tokens):\n",
    "                last_occurrence = i + sublist_length - 1\n",
    "\n",
    "        if last_occurrence != -1:\n",
    "            y[:last_occurrence + 1] = self.padding_token\n",
    "\n",
    "        return y\n",
    "\n",
    "\n",
    "batch_size = 2\n",
    "device = torch.device(\"cuda\" if torch.cuda.is_available() else \"cpu\")\n",
    "\n",
    "train_dataset = FineTuningDataset(\n",
    "    data=train_data_split,\n",
    "    device=device,\n",
    "    padding_token=padding_token\n",
    ")\n",
    "train_loader = DataLoader(\n",
    "    dataset=train_dataset,\n",
    "    batch_size=batch_size,\n",
    "    shuffle=True\n",
    ")\n",
    "\n",
    "val_dataset = FineTuningDataset(\n",
    "    data=val_data_split,\n",
    "    device=device,\n",
    "    padding_token=padding_token\n",
    ")\n",
    "val_loader = DataLoader(\n",
    "    dataset=val_dataset,\n",
    "    batch_size=batch_size,\n",
    "    shuffle=False\n",
    ")"
   ]
  },
  {
   "cell_type": "code",
   "execution_count": 14,
   "metadata": {},
   "outputs": [
    {
     "data": {
      "text/plain": [
       "(torch.Size([2, 629]), torch.Size([2, 629]))"
      ]
     },
     "execution_count": 14,
     "metadata": {},
     "output_type": "execute_result"
    }
   ],
   "source": [
    "x, y = next(iter(train_loader))\n",
    "x.shape, y.shape"
   ]
  },
  {
   "cell_type": "code",
   "execution_count": 15,
   "metadata": {},
   "outputs": [
    {
     "data": {
      "text/plain": [
       "(torch.Size([2, 629]), torch.Size([2, 629]))"
      ]
     },
     "execution_count": 15,
     "metadata": {},
     "output_type": "execute_result"
    }
   ],
   "source": [
    "x, y = next(iter(val_loader))\n",
    "x.shape, y.shape"
   ]
  },
  {
   "cell_type": "markdown",
   "metadata": {},
   "source": [
    "## Fine-tuning"
   ]
  },
  {
   "cell_type": "markdown",
   "metadata": {},
   "source": [
    "### 1. Load the saved checkpoint"
   ]
  },
  {
   "cell_type": "code",
   "execution_count": 20,
   "metadata": {},
   "outputs": [
    {
     "name": "stdout",
     "output_type": "stream",
     "text": [
      "36.23425 M parameters\n"
     ]
    }
   ],
   "source": [
    "from transformer.model import GPTLanguageModel\n",
    "\n",
    "block_size = 1024\n",
    "n_embd = 512\n",
    "n_head = 16\n",
    "n_layer = 6\n",
    "dropout = 0.2\n",
    "vocab_size = get_vocab_size(tokenizer)\n",
    "device = 'cuda' if torch.cuda.is_available() else 'cpu'\n",
    "\n",
    "model = GPTLanguageModel(\n",
    "    vocab_size=vocab_size,\n",
    "    block_size=block_size,\n",
    "    n_embd=n_embd,\n",
    "    n_head=n_head,\n",
    "    n_layer=n_layer,\n",
    "    dropout=dropout,\n",
    "    device=device,\n",
    "    ignore_index=tokenizer.special_tokens[\"<|padding|>\"],\n",
    ").to(device)\n",
    "\n",
    "print(sum(p.numel() for p in model.parameters())/1e6, 'M parameters')"
   ]
  },
  {
   "cell_type": "code",
   "execution_count": 21,
   "metadata": {},
   "outputs": [
    {
     "data": {
      "text/plain": [
       "<All keys matched successfully>"
      ]
     },
     "execution_count": 21,
     "metadata": {},
     "output_type": "execute_result"
    }
   ],
   "source": [
    "checkpoint_path = \"../output/pre_training/base/epoch_5.pth\"\n",
    "checkpoint = torch.load(checkpoint_path, weights_only=True)\n",
    "model_state_dict = checkpoint[\"model_state_dict\"]\n",
    "model.load_state_dict(model_state_dict)"
   ]
  },
  {
   "cell_type": "markdown",
   "metadata": {},
   "source": [
    "Generate from the model to make sure that the weights were loaded correctly."
   ]
  },
  {
   "cell_type": "code",
   "execution_count": 18,
   "metadata": {},
   "outputs": [
    {
     "name": "stdout",
     "output_type": "stream",
     "text": [
      "Hola, que tal estas? Oli pones entero que saldrá de rimuru Quién putas sale es la ia Pepe Prpr Pq WiqpN Q lo q actúe la parte dos y lo estas AaaaaaaaaaaaaaA Valeno me pregunta por mis padres y tengo Abri twitter cerca de pillar oñovas No siento las manaos Manod M Word mirate lo primero que sale es coco xD No siento las manaos Manod Manos Duro Ya no te la puedes jalar Día triste Cuando vuelvas a tu cueva mirate en Epico juego si\n"
     ]
    }
   ],
   "source": [
    "input_tokens = tokenizer.encode(\"Hola, que tal estas?\", allowed_special=\"all\")\n",
    "input_tokens = torch.tensor(\n",
    "    input_tokens, dtype=torch.long).unsqueeze(0).to(device)\n",
    "\n",
    "model.eval()\n",
    "with torch.no_grad():\n",
    "    output = model.generate(input_tokens=input_tokens, max_new_tokens=100)\n",
    "\n",
    "print(tokenizer.decode(output[0].tolist()))"
   ]
  },
  {
   "cell_type": "markdown",
   "metadata": {},
   "source": [
    "### 2. Estimate loss"
   ]
  },
  {
   "cell_type": "code",
   "execution_count": 19,
   "metadata": {},
   "outputs": [],
   "source": [
    "from typing import Dict\n",
    "\n",
    "\n",
    "@torch.no_grad()\n",
    "def estimate_loss(\n",
    "    model: torch.nn.Module,\n",
    "    train_loader: DataLoader,\n",
    "    val_loader: DataLoader,\n",
    ") -> Dict[str, float]:\n",
    "    output = {}\n",
    "    model.eval()\n",
    "\n",
    "    for split, loader in [('train', train_loader), ('val', val_loader)]:\n",
    "        losses = torch.zeros(len(loader))\n",
    "        for i, (x, y) in enumerate(loader):\n",
    "            with torch.no_grad():\n",
    "                _, loss = model(x, y)\n",
    "            losses[i] = loss.item()\n",
    "        output[split] = losses.mean().item()\n",
    "\n",
    "    model.train()\n",
    "    return output"
   ]
  },
  {
   "cell_type": "markdown",
   "metadata": {},
   "source": [
    "### 3. Save checkpoints"
   ]
  },
  {
   "cell_type": "code",
   "execution_count": 20,
   "metadata": {},
   "outputs": [],
   "source": [
    "def save_checkpoint(\n",
    "    model: GPTLanguageModel,\n",
    "    optimizer: torch.optim.Optimizer,\n",
    "    epoch: int,\n",
    "    loss: float,\n",
    "    file_path: str = \"checkpoint.pth\"\n",
    ") -> None:\n",
    "    checkpoint = {\n",
    "        'epoch': epoch,\n",
    "        'model_state_dict': model.state_dict(),\n",
    "        'optimizer_state_dict': optimizer.state_dict(),\n",
    "        'loss': loss\n",
    "    }\n",
    "    torch.save(checkpoint, file_path)"
   ]
  },
  {
   "cell_type": "markdown",
   "metadata": {},
   "source": [
    "### 4. Training loop"
   ]
  },
  {
   "cell_type": "code",
   "execution_count": null,
   "metadata": {},
   "outputs": [],
   "source": [
    "from tqdm import tqdm\n",
    "\n",
    "max_iters = 50\n",
    "eval_interval = 5\n",
    "learning_rate = 1e-4\n",
    "save_interval = 20\n",
    "\n",
    "optimizer = torch.optim.AdamW(model.parameters(), lr=learning_rate)\n",
    "train_losses, val_losses = [], []\n",
    "\n",
    "for iteration in range(max_iters):\n",
    "    for batch_idx, (x_batch, y_batch) in tqdm(\n",
    "        iterable=enumerate(train_loader),\n",
    "        desc=\"Training on batches\",\n",
    "        total=len(train_loader)\n",
    "    ):\n",
    "        # Evaluation\n",
    "        if batch_idx % eval_interval == 0 or batch_idx == len(train_loader) - 1:\n",
    "            losses = estimate_loss(\n",
    "                model=model,\n",
    "                train_loader=train_loader,\n",
    "                val_loader=val_loader\n",
    "            )\n",
    "            print(\n",
    "                f\"Epoch {iteration} / step {batch_idx}: \"\n",
    "                f\"train loss {losses['train']:.4f}, \"\n",
    "                f\"val loss {losses['val']:.4f}\"\n",
    "            )\n",
    "            train_losses.append(losses['train'])\n",
    "            val_losses.append(losses['val'])\n",
    "\n",
    "        # Training step\n",
    "        logits, loss = model(x_batch, y_batch)\n",
    "        optimizer.zero_grad(set_to_none=True)\n",
    "        loss.backward()\n",
    "        optimizer.step()\n",
    "\n",
    "    # Save checkpoint\n",
    "    if iteration % save_interval == 0 or iteration == max_iters - 1:\n",
    "        save_checkpoint(\n",
    "            model=model,\n",
    "            optimizer=optimizer,\n",
    "            epoch=iteration,\n",
    "            loss=loss.item(),\n",
    "            file_path=f\"../output/fine_tuning/qa/base/run_3/checkpoint_{iteration}.pth\"\n",
    "        )"
   ]
  },
  {
   "cell_type": "code",
   "execution_count": 22,
   "metadata": {},
   "outputs": [
    {
     "data": {
      "image/png": "[encoded data removed]",
      "text/plain": [
       "<Figure size 1000x500 with 1 Axes>"
      ]
     },
     "metadata": {},
     "output_type": "display_data"
    }
   ],
   "source": [
    "import matplotlib.pyplot as plt\n",
    "\n",
    "plt.figure(figsize=(10, 5))\n",
    "plt.plot(train_losses, label=\"Train Loss\")\n",
    "plt.plot(val_losses, label=\"Validation Loss\")\n",
    "plt.xlabel(\"Evaluation Step\")\n",
    "plt.ylabel(\"Loss\")\n",
    "plt.title(\"Training and Validation Loss Over Time\")\n",
    "plt.legend()\n",
    "plt.grid()\n",
    "plt.show()"
   ]
  },
  {
   "cell_type": "markdown",
   "metadata": {},
   "source": [
    "### 5. Inference"
   ]
  },
  {
   "cell_type": "code",
   "execution_count": 1,
   "metadata": {},
   "outputs": [
    {
     "ename": "NameError",
     "evalue": "name 'torch' is not defined",
     "output_type": "error",
     "traceback": [
      "\u001b[31m---------------------------------------------------------------------------\u001b[39m",
      "\u001b[31mNameError\u001b[39m                                 Traceback (most recent call last)",
      "\u001b[36mCell\u001b[39m\u001b[36m \u001b[39m\u001b[32mIn[1]\u001b[39m\u001b[32m, line 2\u001b[39m\n\u001b[32m      1\u001b[39m checkpoint_path = \u001b[33m\"\u001b[39m\u001b[33m../output/fine_tuning/qa/base/run_3/checkpoint_49.pth\u001b[39m\u001b[33m\"\u001b[39m\n\u001b[32m----> \u001b[39m\u001b[32m2\u001b[39m checkpoint = \u001b[43mtorch\u001b[49m.load(checkpoint_path, weights_only=\u001b[38;5;28;01mTrue\u001b[39;00m)\n\u001b[32m      3\u001b[39m model_state_dict = checkpoint[\u001b[33m\"\u001b[39m\u001b[33mmodel_state_dict\u001b[39m\u001b[33m\"\u001b[39m]\n\u001b[32m      4\u001b[39m model.load_state_dict(model_state_dict)\n",
      "\u001b[31mNameError\u001b[39m: name 'torch' is not defined"
     ]
    }
   ],
   "source": [
    "checkpoint_path = \"../output/fine_tuning/qa/base/run_3/checkpoint_49.pth\"\n",
    "checkpoint = torch.load(checkpoint_path, weights_only=True)\n",
    "model_state_dict = checkpoint[\"model_state_dict\"]\n",
    "model.load_state_dict(model_state_dict)"
   ]
  },
  {
   "cell_type": "code",
   "execution_count": 41,
   "metadata": {},
   "outputs": [
    {
     "name": "stdout",
     "output_type": "stream",
     "text": [
      "EndOfText\n",
      "You: ¿Cómo te llamas?\n",
      "Assistant: ecesn elcómo\n"
     ]
    }
   ],
   "source": [
    "def get_input_tokens(turns: list[dict]) -> list[int]:\n",
    "    formatted_input = \"\"\n",
    "    for turn in turns:\n",
    "        role = turn[\"role\"]\n",
    "        content = turn[\"content\"]\n",
    "        formatted_input += f\"{tokens['start']}{role}{tokens['separator']}{content}{tokens['end']}\"\n",
    "\n",
    "    formatted_input += f\"{tokens['start']}assistant{tokens['separator']}\"\n",
    "\n",
    "    input_tokens = tokenizer.encode(formatted_input, allowed_special=\"all\")\n",
    "    input_tokens = torch.tensor(input_tokens, dtype=torch.long)\n",
    "    input_tokens = input_tokens.unsqueeze(0).to(device)\n",
    "    #print(f'Input tokens: {input_tokens}')\n",
    "    return input_tokens\n",
    "\n",
    "\n",
    "def get_generated_message(input_tokens: list[int]) -> str:\n",
    "    model_answer = \"\"\n",
    "    model.eval()\n",
    "    while True:\n",
    "        try:\n",
    "            #print(f\"Model answer: {model_answer}\")\n",
    "            output_tokens = model.advanced_generation(\n",
    "                input_tokens=input_tokens, max_new_tokens=10, temperature=.9, top_k=50, top_p=None)\n",
    "            #print(f'Output tokens: {output_tokens}')\n",
    "            last_generated_token = output_tokens[0, -1].item()\n",
    "            #print(f'Last generated token: {last_generated_token}')\n",
    "            if last_generated_token == tokenizer.special_tokens[\"<|endoftext|>\"]:\n",
    "                print(\"EndOfText\")\n",
    "                break\n",
    "\n",
    "            #if last_generated_token == tokenizer.special_tokens[\"<|end_turn|>\"]:\n",
    "            #    print(\"EndTurn\")\n",
    "            #    break\n",
    "            #print(\"aaaaaaaaaaaaaaaaa\")\n",
    "            input_tokens = torch.cat(\n",
    "                (input_tokens, output_tokens[:, -1:]), dim=1)\n",
    "            #print(f'Input tokens aa: {input_tokens}')\n",
    "            model_answer += tokenizer.decode([last_generated_token])\n",
    "            #print(f\"Model answer2: {model_answer}\")\n",
    "            if len(output_tokens[0]) > block_size:\n",
    "                print(\"Lenght passed\")\n",
    "                break\n",
    "        except Exception as e:\n",
    "            print(\"Error ocurred: \", repr(e))\n",
    "            continue\n",
    "\n",
    "    return model_answer\n",
    "\n",
    "\n",
    "user_message = \"¿Cómo te llamas?\"\n",
    "turns = [\n",
    "    {\n",
    "        \"role\": \"system\",\n",
    "        \"content\": system_message\n",
    "    },\n",
    "    {\n",
    "        \"role\": \"user\",\n",
    "        \"content\": user_message\n",
    "    },\n",
    "]\n",
    "input_tokens = get_input_tokens(turns=turns)\n",
    "model_answer = get_generated_message(input_tokens=input_tokens)\n",
    "turns.append({\n",
    "    \"role\": \"assistant\",\n",
    "    \"content\": model_answer\n",
    "})\n",
    "\n",
    "for turn in turns:\n",
    "    role = turn[\"role\"]\n",
    "    #print(f\"Turn: {turn}\")\n",
    "    if role == \"user\":\n",
    "        print(f\"You: {turn['content']}\")\n",
    "    elif role == \"assistant\":\n",
    "        print(f\"Assistant: {turn['content']}\")"
   ]
  },
  {
   "cell_type": "code",
   "execution_count": 54,
   "metadata": {},
   "outputs": [
    {
     "name": "stdout",
     "output_type": "stream",
     "text": [
      "EndOfText\n",
      "You: Hola\n",
      "Assistant:  paratur quetur..arlo\n",
      "You: Adios.\n",
      "Assistant: adq así_\n",
      "You: Adios.\n",
      "Assistant: turtur para|4\n",
      "You: Adios.\n",
      "Assistant: _\n",
      "You: Adios.\n",
      "Assistant: _\n",
      "You: Adios.\n",
      "Assistant: tur>hn de, tehtióend esto grande_ nuestros||,a en,h ayud| momentoano\n",
      "You: Adios.\n",
      "Assistant:  ayudar>id_<nn<n,| Ga< la otra.m__ es\n",
      "You: Adios.\n",
      "Assistant: n siempre__ teturturturtur<|end\n",
      "You: Adios.\n",
      "Assistant: \n",
      "You: Hola bro\n",
      "Assistant:  �,,| te te ayud al esto>,| a<ashes te ayud?, �> siempre| ayud<nn< de ayude.,|_ o � F estoy. de�tur�tur �\n"
     ]
    }
   ],
   "source": [
    "turns = turns[:-2]  # Uncomment this if you want to retry the generation\n",
    "user_message = \"Hola bro\"\n",
    "turns.append({\n",
    "    \"role\": \"user\",\n",
    "    \"content\": user_message\n",
    "})\n",
    "input_tokens = get_input_tokens(turns=turns)\n",
    "model_answer = get_generated_message(input_tokens=input_tokens)\n",
    "turns.append({\n",
    "    \"role\": \"assistant\",\n",
    "    \"content\": model_answer\n",
    "})\n",
    "for turn in turns:\n",
    "    role = turn[\"role\"]\n",
    "    if role == \"user\":\n",
    "        print(f\"You: {turn['content']}\")\n",
    "    elif role == \"assistant\":\n",
    "        print(f\"Assistant: {turn['content']}\")"
   ]
  },
  {
   "cell_type": "code",
   "execution_count": 51,
   "metadata": {},
   "outputs": [
    {
     "name": "stdout",
     "output_type": "stream",
     "text": [
      "EndOfText\n",
      "You: Hola\n",
      "Assistant:  paratur quetur..arlo\n",
      "You: Adios.\n",
      "Assistant: adq así_\n",
      "You: Adios.\n",
      "Assistant: turtur para|4\n",
      "You: Adios.\n",
      "Assistant: _\n",
      "You: Adios.\n",
      "Assistant: _\n",
      "You: Adios.\n",
      "Assistant: tur>hn de, tehtióend esto grande_ nuestros||,a en,h ayud| momentoano\n",
      "You: Adios.\n",
      "Assistant:  ayudar>id_<nn<n,| Ga< la otra.m__ es\n",
      "You: Adios.\n",
      "Assistant: n siempre__ teturturturtur<|end\n",
      "You: Adios.\n",
      "Assistant: \n",
      "You: Adios.\n",
      "Assistant: ash\n"
     ]
    }
   ],
   "source": [
    "# turns = turns[:-2] # Uncomment this if you want to retry the generation\n",
    "user_message = \"Adios.\"\n",
    "turns.append({\n",
    "    \"role\": \"user\",\n",
    "    \"content\": user_message\n",
    "})\n",
    "input_tokens = get_input_tokens(turns=turns)\n",
    "model_answer = get_generated_message(input_tokens=input_tokens)\n",
    "turns.append({\n",
    "    \"role\": \"assistant\",\n",
    "    \"content\": model_answer\n",
    "})\n",
    "for turn in turns:\n",
    "    role = turn[\"role\"]\n",
    "    if role == \"user\":\n",
    "        print(f\"You: {turn['content']}\")\n",
    "    elif role == \"assistant\":\n",
    "        print(f\"Assistant: {turn['content']}\")"
   ]
  },
  {
   "cell_type": "code",
   "execution_count": 20,
   "metadata": {},
   "outputs": [
    {
     "data": {
      "text/plain": [
       "{'<|startoftext|>': 16384,\n",
       " '<|separator|>': 16385,\n",
       " '<|endoftext|>': 16386,\n",
       " '<|unk|>': 16387,\n",
       " '<|padding|>': 16388}"
      ]
     },
     "execution_count": 20,
     "metadata": {},
     "output_type": "execute_result"
    }
   ],
   "source": [
    "tokenizer.special_tokens"
   ]
  }
 ],
 "metadata": {
  "kernelspec": {
   "display_name": ".venv",
   "language": "python",
   "name": "python3"
  },
  "language_info": {
   "codemirror_mode": {
    "name": "ipython",
    "version": 3
   },
   "file_extension": ".py",
   "mimetype": "text/x-python",
   "name": "python",
   "nbconvert_exporter": "python",
   "pygments_lexer": "ipython3",
   "version": "3.12.3"
  }
 },
 "nbformat": 4,
 "nbformat_minor": 2
}
