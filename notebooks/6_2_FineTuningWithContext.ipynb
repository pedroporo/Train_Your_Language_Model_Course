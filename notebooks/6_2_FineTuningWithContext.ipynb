{
 "cells": [
  {
   "cell_type": "markdown",
   "metadata": {},
   "source": [
    "## Prepare the data"
   ]
  },
  {
   "cell_type": "markdown",
   "metadata": {},
   "source": [
    "### 1. Load the fine-tuning data"
   ]
  },
  {
   "cell_type": "code",
   "execution_count": 1,
   "metadata": {},
   "outputs": [],
   "source": [
    "import json\n",
    "\n",
    "file_path = \"../output/fine_tuning/data/fine_tuning.json\"\n",
    "with open(file_path, \"r\") as file:\n",
    "    data = json.load(file)"
   ]
  },
  {
   "cell_type": "markdown",
   "metadata": {},
   "source": [
    "### 2. Load the tokenizer"
   ]
  },
  {
   "cell_type": "code",
   "execution_count": 2,
   "metadata": {},
   "outputs": [],
   "source": [
    "import sys\n",
    "sys.path.append('..')"
   ]
  },
  {
   "cell_type": "code",
   "execution_count": 3,
   "metadata": {},
   "outputs": [],
   "source": [
    "from minbpe import RegexTokenizer\n",
    "\n",
    "tokenizer = RegexTokenizer()\n",
    "tokenizer.load(model_file=\"../output/tokenizer/darija_tokenizer.model\")\n",
    "\n",
    "\n",
    "def get_vocab_size(tokenizer: RegexTokenizer) -> int:\n",
    "    vocab = tokenizer.vocab\n",
    "    special_tokens = tokenizer.special_tokens\n",
    "\n",
    "    return len(vocab) + len(special_tokens)"
   ]
  },
  {
   "cell_type": "markdown",
   "metadata": {},
   "source": [
    "### 3. Tokenize the sequences"
   ]
  },
  {
   "cell_type": "code",
   "execution_count": 4,
   "metadata": {},
   "outputs": [
    {
     "data": {
      "text/plain": [
       "74"
      ]
     },
     "execution_count": 4,
     "metadata": {},
     "output_type": "execute_result"
    }
   ],
   "source": [
    "tokenized_data = []\n",
    "for item in data:\n",
    "    tokenized_item = tokenizer.encode(item, allowed_special=\"all\")\n",
    "    tokenized_data.append(tokenized_item)\n",
    "\n",
    "len(tokenized_data[0])"
   ]
  },
  {
   "cell_type": "markdown",
   "metadata": {},
   "source": [
    "### 4. Split the data"
   ]
  },
  {
   "cell_type": "markdown",
   "metadata": {},
   "source": [
    "We need to be careful when splitting the data. We want to keep the multi-turn conversations complete in each part. So, the training and validation sets should start with a `You` message and end with an `Assistant` message."
   ]
  },
  {
   "cell_type": "code",
   "execution_count": 5,
   "metadata": {},
   "outputs": [
    {
     "name": "stdout",
     "output_type": "stream",
     "text": [
      "Training set: \n",
      "Start message: <|startoftext|>La Wikipedia Del Porno(Andres)\n",
      "End message: <|startoftext|>La Wikipedia Del Porno(Andres)\n",
      "\n",
      "Validation set: \n",
      "Start message: <|startoftext|>Pedro Guill Ferri\n",
      "End message: <|startoftext|>La Wikipedia Del Porno(Andres)\n"
     ]
    }
   ],
   "source": [
    "initial_split_index = int(0.95 * len(data))\n",
    "\n",
    "# Adjusting the index to ensure that the training set ends with \"Assistant\" message\n",
    "# and that the validation set starts with \"You\" message\n",
    "\n",
    "# Scanning backward to find an Assistant message\n",
    "split_index = initial_split_index\n",
    "while split_index > 0 and not data[split_index-1].startswith('<|startoftext|>La Wikipedia Del Porno(Andres)'):\n",
    "    split_index -= 1\n",
    "\n",
    "train_data = data[:split_index]\n",
    "val_data = data[split_index:]\n",
    "\n",
    "print(\"Training set: \")\n",
    "print(f\"Start message: {train_data[0].split('<|separator|>')[0]}\")\n",
    "print(f\"End message: {train_data[-1].split('<|separator|>')[0]}\")\n",
    "\n",
    "print(\"\\nValidation set: \")\n",
    "print(f\"Start message: {val_data[0].split('<|separator|>')[0]}\")\n",
    "print(f\"End message: {val_data[-1].split('<|separator|>')[0]}\")"
   ]
  },
  {
   "cell_type": "markdown",
   "metadata": {},
   "source": [
    "We got the index that we should use to split the data. Now, let's split the tokenized data."
   ]
  },
  {
   "cell_type": "code",
   "execution_count": 6,
   "metadata": {},
   "outputs": [],
   "source": [
    "train_data = tokenized_data[:split_index]\n",
    "val_data = tokenized_data[split_index:]"
   ]
  },
  {
   "cell_type": "markdown",
   "metadata": {},
   "source": [
    "Now, we need to combine the `You` and `Assistant` turns into one sequence. We will make sure that the resulting sequence does not exceed the `block_size`."
   ]
  },
  {
   "cell_type": "code",
   "execution_count": 7,
   "metadata": {},
   "outputs": [],
   "source": [
    "block_size = 256\n",
    "\n",
    "\n",
    "def combine_turns(data: list[list[int]], should_trim_long_sequences: bool) -> list[list[int]]:\n",
    "    combined_turns_data = []\n",
    "    for i in range(0, len(data)-1, 2):\n",
    "        you_message = data[i]\n",
    "        assistant_message = data[i+1]\n",
    "        if not you_message or not assistant_message:\n",
    "            continue\n",
    "\n",
    "        final_message = you_message + assistant_message\n",
    "        if len(final_message) > block_size and should_trim_long_sequences:\n",
    "            final_message = final_message[-block_size:]\n",
    "\n",
    "        combined_turns_data.append(final_message)\n",
    "    return combined_turns_data\n",
    "\n",
    "\n",
    "combined_train_data = combine_turns(\n",
    "    data=train_data,\n",
    "    should_trim_long_sequences=True\n",
    ")\n",
    "combined_val_data = combine_turns(\n",
    "    data=val_data,\n",
    "    should_trim_long_sequences=True\n",
    ")"
   ]
  },
  {
   "cell_type": "code",
   "execution_count": 8,
   "metadata": {},
   "outputs": [
    {
     "name": "stdout",
     "output_type": "stream",
     "text": [
      "Train data\n",
      "Length before: 10405\n",
      "Length after: 5202\n",
      "\n",
      "Validation data\n",
      "Length before: 548\n",
      "Length after: 274\n"
     ]
    }
   ],
   "source": [
    "print(\"Train data\")\n",
    "print(f\"Length before: {len(train_data)}\")\n",
    "print(f\"Length after: {len(combined_train_data)}\")\n",
    "\n",
    "print(\"\\nValidation data\")\n",
    "print(f\"Length before: {len(val_data)}\")\n",
    "print(f\"Length after: {len(combined_val_data)}\")"
   ]
  },
  {
   "cell_type": "markdown",
   "metadata": {},
   "source": [
    "We will merge the `You` and `Assistant` parts into one sequence. Then, we will try to combine multiple sequences of `You` and `Assistant` into a single input, but only if the sequence length stays smaller than the block size."
   ]
  },
  {
   "cell_type": "code",
   "execution_count": 9,
   "metadata": {},
   "outputs": [],
   "source": [
    "def merge_conversation_turns(combined_data: list[list[int]], block_size: int) -> list[list[int]]:\n",
    "    new_data = []\n",
    "    current_sequence = []\n",
    "\n",
    "    for sequence in combined_data:\n",
    "        if len(current_sequence) + len(sequence) <= block_size:\n",
    "            current_sequence.extend(sequence)\n",
    "        else:\n",
    "            if current_sequence:\n",
    "                new_data.append(current_sequence)\n",
    "            current_sequence = sequence.copy()\n",
    "\n",
    "    # Add the last block if it's not empty\n",
    "    if current_sequence:\n",
    "        new_data.append(current_sequence)\n",
    "\n",
    "    return new_data\n",
    "\n",
    "\n",
    "merged_train_data = merge_conversation_turns(\n",
    "    combined_data=combined_train_data,\n",
    "    block_size=block_size\n",
    ")\n",
    "merged_val_data = merge_conversation_turns(\n",
    "    combined_data=combined_val_data,\n",
    "    block_size=block_size\n",
    ")"
   ]
  },
  {
   "cell_type": "code",
   "execution_count": 10,
   "metadata": {},
   "outputs": [
    {
     "data": {
      "text/plain": [
       "(5202, 1397)"
      ]
     },
     "execution_count": 10,
     "metadata": {},
     "output_type": "execute_result"
    }
   ],
   "source": [
    "len(combined_train_data), len(merged_train_data)"
   ]
  },
  {
   "cell_type": "markdown",
   "metadata": {},
   "source": [
    "Let's convert each sequence of tokens into a tensor."
   ]
  },
  {
   "cell_type": "code",
   "execution_count": 11,
   "metadata": {},
   "outputs": [
    {
     "ename": "ValueError",
     "evalue": "expected sequence of length 86 at dim 1 (got 44)",
     "output_type": "error",
     "traceback": [
      "\u001b[31m---------------------------------------------------------------------------\u001b[39m",
      "\u001b[31mValueError\u001b[39m                                Traceback (most recent call last)",
      "\u001b[36mCell\u001b[39m\u001b[36m \u001b[39m\u001b[32mIn[11]\u001b[39m\u001b[32m, line 3\u001b[39m\n\u001b[32m      1\u001b[39m \u001b[38;5;28;01mimport\u001b[39;00m\u001b[38;5;250m \u001b[39m\u001b[34;01mtorch\u001b[39;00m\n\u001b[32m----> \u001b[39m\u001b[32m3\u001b[39m train_data = \u001b[43mtorch\u001b[49m\u001b[43m.\u001b[49m\u001b[43mtensor\u001b[49m\u001b[43m(\u001b[49m\u001b[43mcombined_train_data\u001b[49m\u001b[43m)\u001b[49m\n\u001b[32m      4\u001b[39m val_data = torch.tensor(combined_val_data)\n",
      "\u001b[31mValueError\u001b[39m: expected sequence of length 86 at dim 1 (got 44)"
     ]
    }
   ],
   "source": [
    "import torch\n",
    "\n",
    "train_data = torch.tensor(combined_train_data)\n",
    "val_data = torch.tensor(combined_val_data)"
   ]
  },
  {
   "cell_type": "markdown",
   "metadata": {},
   "source": [
    "Since our token sequences don't all have the same length, we can't turn the data into a tensor all at once. To do that, all sequences need to have the same length.\n",
    "\n",
    "That's why we need to use padding to fix this problem. We can add padding at the start or end of the sequence. Let's add it to the start."
   ]
  },
  {
   "cell_type": "code",
   "execution_count": null,
   "metadata": {},
   "outputs": [
    {
     "data": {
      "text/plain": [
       "(torch.Size([2488, 256]), torch.Size([135, 256]))"
      ]
     },
     "execution_count": 12,
     "metadata": {},
     "output_type": "execute_result"
    }
   ],
   "source": [
    "import torch\n",
    "torch.manual_seed(3647)\n",
    "\n",
    "# The token `<|padding|>` is used to mask the padding tokens.\n",
    "# Masking means the model will ignore these tokens during training.\n",
    "# In other words, the loss will not be calculated for these tokens.\n",
    "padding_token = tokenizer.special_tokens[\"<|padding|>\"]\n",
    "\n",
    "\n",
    "def apply_padding_to_data(data: list[list[int]], block_size: int, padding_token: int) -> torch.Tensor:\n",
    "    tensors = []\n",
    "    for i in range(len(data)):\n",
    "        tensor = torch.tensor(data[i])\n",
    "        padded_tensor = torch.nn.functional.pad(\n",
    "            input=tensor,\n",
    "            # for right padding:\n",
    "            pad=(0, block_size - len(tensor)),\n",
    "            # pad=(block_size - len(tensor), 0),\n",
    "            value=padding_token\n",
    "        )\n",
    "        tensors.append(padded_tensor)\n",
    "\n",
    "    return torch.stack(tensors)\n",
    "\n",
    "\n",
    "train_data_tensor = apply_padding_to_data(\n",
    "    data=merged_train_data,\n",
    "    block_size=block_size,\n",
    "    padding_token=padding_token\n",
    ")\n",
    "val_data_tensor = apply_padding_to_data(\n",
    "    data=merged_val_data,\n",
    "    block_size=block_size,\n",
    "    padding_token=padding_token\n",
    ")\n",
    "\n",
    "train_data_tensor.shape, val_data_tensor.shape"
   ]
  },
  {
   "cell_type": "code",
   "execution_count": null,
   "metadata": {},
   "outputs": [
    {
     "data": {
      "text/plain": [
       "tensor([1024,   76,   97,   32,   87,  105,  690,  369,  298,   97,   32,   68,\n",
       "         538,   32,  635,  588,   40,  866,  570,  265,   41, 1025,   87,  101,\n",
       "          63,   10,   84,  101,   32,  406,  381,  115,  426,   63,   10,   65,\n",
       "         121,  101,   10,   79,  121,  101,   42,   10,  691,   98,  307,   32,\n",
       "          98,  108,  293,  107,   32,  288,  416,   10,   67,  391,  111,   32,\n",
       "         524,   32,  558,   32,  109,  305,  307,   32,  334,   32,  299,  547,\n",
       "          32,   99,  381,  111,   32,  292,   32,  334,  801,  105,  111,   32,\n",
       "         524,   32,  356,  321,   32,  100,  505,  111,   32,  334,  108,   32,\n",
       "         103,  381,  943,  105,  111,   32,  334,   32,  299,  547,   10,   72,\n",
       "         299,   32,  422,  308,  561,   32,  265,  111,   32,  588,   63, 1026,\n",
       "        1024,   80,  101,  100,  458,   32,   71,  117,  105,  361,   32,   70,\n",
       "         261,  381, 1025,  673, 1026, 1024,   76,   97,   32,   87,  105,  690,\n",
       "         369,  298,   97,   32,   68,  538,   32,  635,  588,   40,  866,  570,\n",
       "         265,   41, 1025,   86,  292,  101, 1026, 1024,   80,  101,  100,  458,\n",
       "          32,   71,  117,  105,  361,   32,   70,  261,  381, 1025,  635,   32,\n",
       "         323,  261,  311,   32,  278,  570,  265,   32,  672,  333,   97,  426,\n",
       "          32,  333,   97,   32,  401,   32,  109,  299,  293,  307,   32,  390,\n",
       "          32,  380,  261,  374,   32,  115,  494,  105,  108,  261, 1026, 1028,\n",
       "        1028, 1028, 1028, 1028, 1028, 1028, 1028, 1028, 1028, 1028, 1028, 1028,\n",
       "        1028, 1028, 1028, 1028, 1028, 1028, 1028, 1028, 1028, 1028, 1028, 1028,\n",
       "        1028, 1028, 1028, 1028, 1028, 1028, 1028, 1028, 1028, 1028, 1028, 1028,\n",
       "        1028, 1028, 1028, 1028])"
      ]
     },
     "execution_count": 13,
     "metadata": {},
     "output_type": "execute_result"
    }
   ],
   "source": [
    "train_data_tensor[0]"
   ]
  },
  {
   "cell_type": "code",
   "execution_count": null,
   "metadata": {},
   "outputs": [
    {
     "data": {
      "text/plain": [
       "tensor([1024,   80,  101,  100,  458,   32,   71,  117,  105,  361,   32,   70,\n",
       "         261,  381, 1025,  390,  524,   32,  538,   32,  494,  361,  111,   32,\n",
       "          97,   32,  350,  369,  122,  305,  111,   32,   97,   32,  380,  261,\n",
       "          32,  106,  940,  111,  112,  397,  265, 1026, 1024,   76,   97,   32,\n",
       "          87,  105,  690,  369,  298,   97,   32,   68,  538,   32,  635,  588,\n",
       "          40,  866,  570,  265,   41, 1025,  673, 1026, 1024,   80,  101,  100,\n",
       "         458,   32,   71,  117,  105,  361,   32,   70,  261,  381, 1025,   40,\n",
       "         355,   32,  303,   97,   32,  406,  106,  261,   41, 1026, 1024,   76,\n",
       "          97,   32,   87,  105,  690,  369,  298,   97,   32,   68,  538,   32,\n",
       "         635,  588,   40,  866,  570,  265,   41, 1025,   83,  101, 1026, 1024,\n",
       "          80,  101,  100,  458,   32,   71,  117,  105,  361,   32,   70,  261,\n",
       "         381, 1025,   83,  101,   32,  458,   98,  264,  318,   32,   97,   32,\n",
       "         303,   32,  108,  305,  114,  318,   10,   76,   97,   32,  575,  116,\n",
       "         305,   97,   10,   70,  864,  122,   32,  506,  111,   44,   32,  121,\n",
       "          32,  819,  111,   32,  524,   32,  356,  101,   32,  506,  111,   32,\n",
       "         390,  750,   32,  558,   32,  480,  103,  299, 1026, 1024,   76,   97,\n",
       "          32,   87,  105,  690,  369,  298,   97,   32,   68,  538,   32,  635,\n",
       "         588,   40,  866,  570,  265,   41, 1025,  120,   68,   10,   70,  864,\n",
       "         122,   32,  506,  111,   10,   89,   32,  340,   32,  588,   32,   97,\n",
       "          32,  406,  329,   97,   32,  426,   32,  558,   32,  480,  738,   10,\n",
       "         605,  738, 1026, 1028, 1028, 1028, 1028, 1028, 1028, 1028, 1028, 1028,\n",
       "        1028, 1028, 1028, 1028])"
      ]
     },
     "execution_count": 14,
     "metadata": {},
     "output_type": "execute_result"
    }
   ],
   "source": [
    "val_data_tensor[0]"
   ]
  },
  {
   "cell_type": "markdown",
   "metadata": {},
   "source": [
    "### 5. Creat the data loaders"
   ]
  },
  {
   "cell_type": "code",
   "execution_count": null,
   "metadata": {},
   "outputs": [],
   "source": [
    "from typing import Tuple\n",
    "from torch.utils.data import Dataset, DataLoader\n",
    "\n",
    "\n",
    "class FineTuningDataset(Dataset):\n",
    "    def __init__(self, data: torch.Tensor, device: torch.device, padding_token: int):\n",
    "        self.data = data  # shape: (num_samples, block_size)\n",
    "        self.device = device\n",
    "        self.padding_token = padding_token\n",
    "\n",
    "    def __len__(self) -> int:\n",
    "        return len(self.data)\n",
    "\n",
    "    def __getitem__(self, index: int) -> Tuple[torch.Tensor, torch.Tensor]:\n",
    "        sample = self.data[index]\n",
    "        x = sample.to(self.device)\n",
    "        y = sample[1:].to(self.device)\n",
    "        padding_tensor = torch.tensor([self.padding_token], device=self.device)\n",
    "        y = torch.cat((y, padding_tensor))\n",
    "        return x, y\n",
    "\n",
    "\n",
    "batch_size = 32\n",
    "device = torch.device(\"cuda\" if torch.cuda.is_available() else \"cpu\")\n",
    "\n",
    "train_dataset = FineTuningDataset(\n",
    "    data=train_data_tensor,\n",
    "    device=device,\n",
    "    padding_token=padding_token\n",
    ")\n",
    "train_loader = DataLoader(\n",
    "    dataset=train_dataset,\n",
    "    batch_size=batch_size,\n",
    "    shuffle=True\n",
    ")\n",
    "\n",
    "val_dataset = FineTuningDataset(\n",
    "    data=val_data_tensor,\n",
    "    device=device,\n",
    "    padding_token=padding_token\n",
    ")\n",
    "val_loader = DataLoader(\n",
    "    dataset=val_dataset,\n",
    "    batch_size=batch_size,\n",
    "    shuffle=False\n",
    ")"
   ]
  },
  {
   "cell_type": "code",
   "execution_count": null,
   "metadata": {},
   "outputs": [
    {
     "data": {
      "text/plain": [
       "(torch.Size([32, 256]), torch.Size([32, 256]))"
      ]
     },
     "execution_count": 16,
     "metadata": {},
     "output_type": "execute_result"
    }
   ],
   "source": [
    "x, y = next(iter(train_loader))\n",
    "x.shape, y.shape"
   ]
  },
  {
   "cell_type": "markdown",
   "metadata": {},
   "source": [
    "## Fine-tuning"
   ]
  },
  {
   "cell_type": "markdown",
   "metadata": {},
   "source": [
    "### 1. Load the saved checkpoint"
   ]
  },
  {
   "cell_type": "code",
   "execution_count": null,
   "metadata": {},
   "outputs": [
    {
     "name": "stdout",
     "output_type": "stream",
     "text": [
      "13.795338 M parameters\n"
     ]
    }
   ],
   "source": [
    "from transformer.model import GPTLanguageModel\n",
    "\n",
    "block_size = 256\n",
    "n_embd = 512\n",
    "n_head = 8\n",
    "n_layer = 4\n",
    "dropout = 0.2\n",
    "batch_size = 64\n",
    "vocab_size = get_vocab_size(tokenizer)\n",
    "\n",
    "model = GPTLanguageModel(\n",
    "    vocab_size=vocab_size,\n",
    "    block_size=block_size,\n",
    "    n_embd=n_embd,\n",
    "    n_head=n_head,\n",
    "    n_layer=n_layer,\n",
    "    dropout=dropout,\n",
    "    device=device,\n",
    "    ignore_index=tokenizer.special_tokens[\"<|padding|>\"],\n",
    ").to(device)\n",
    "model = torch.compile(model)\n",
    "\n",
    "print(sum(p.numel() for p in model.parameters())/1e6, 'M parameters')"
   ]
  },
  {
   "cell_type": "code",
   "execution_count": null,
   "metadata": {},
   "outputs": [
    {
     "data": {
      "text/plain": [
       "<All keys matched successfully>"
      ]
     },
     "execution_count": 18,
     "metadata": {},
     "output_type": "execute_result"
    }
   ],
   "source": [
    "checkpoint_path = \"../output/pre_training/base_model_checkpoint.pth\"\n",
    "checkpoint = torch.load(checkpoint_path, weights_only=True)\n",
    "model_state_dict = checkpoint[\"model_state_dict\"]\n",
    "model.load_state_dict(model_state_dict)"
   ]
  },
  {
   "cell_type": "markdown",
   "metadata": {},
   "source": [
    "Generate from the model to make sure that the weights were loaded correctly."
   ]
  },
  {
   "cell_type": "code",
   "execution_count": null,
   "metadata": {},
   "outputs": [
    {
     "name": "stdout",
     "output_type": "stream",
     "text": [
      "Hola Bro Por qué ya mierda llegó a casa y dil Y no lo olvidarlo Tocará tener selado CATocará tener un así que tiendo sobre tocará tener sectubre cuando me tocarnet de mi Mancia o A Lo estoy esperando Esto en casa Pues dejo de tu casa Pues es cambiarme toca ca por qué deciraryo? Pues si salgo yo de mi oya \n"
     ]
    }
   ],
   "source": [
    "input_tokens = tokenizer.encode(\"Hola Bro \", allowed_special=\"all\")\n",
    "input_tokens = torch.tensor(\n",
    "    input_tokens, dtype=torch.long).unsqueeze(0).to(device)\n",
    "\n",
    "model.eval()\n",
    "with torch.no_grad():\n",
    "    output = model.generate(input_tokens=input_tokens, max_new_tokens=100)\n",
    "\n",
    "print(tokenizer.decode(output[0].tolist()))"
   ]
  },
  {
   "cell_type": "markdown",
   "metadata": {},
   "source": [
    "### 2. Estimate loss"
   ]
  },
  {
   "cell_type": "code",
   "execution_count": null,
   "metadata": {},
   "outputs": [],
   "source": [
    "from typing import Dict\n",
    "\n",
    "\n",
    "@torch.no_grad()\n",
    "def estimate_loss(\n",
    "    model: torch.nn.Module,\n",
    "    train_loader: DataLoader,\n",
    "    val_loader: DataLoader,\n",
    ") -> Dict[str, float]:\n",
    "    output = {}\n",
    "    model.eval()\n",
    "\n",
    "    for split, loader in [('train', train_loader), ('val', val_loader)]:\n",
    "        losses = []\n",
    "        for x, y in loader:\n",
    "            with torch.no_grad():\n",
    "                _, loss = model(x, y)\n",
    "            losses.append(loss.item())\n",
    "        output[split] = sum(losses) / len(losses)\n",
    "\n",
    "    model.train()\n",
    "    return output"
   ]
  },
  {
   "cell_type": "markdown",
   "metadata": {},
   "source": [
    "### 3. Save checkpoints"
   ]
  },
  {
   "cell_type": "code",
   "execution_count": null,
   "metadata": {},
   "outputs": [],
   "source": [
    "def save_checkpoint(\n",
    "    model: GPTLanguageModel,\n",
    "    optimizer: torch.optim.Optimizer,\n",
    "    epoch: int,\n",
    "    loss: float,\n",
    "    file_path: str = \"checkpoint.pth\"\n",
    ") -> None:\n",
    "    checkpoint = {\n",
    "        'epoch': epoch,\n",
    "        'model_state_dict': model.state_dict(),\n",
    "        'optimizer_state_dict': optimizer.state_dict(),\n",
    "        'loss': loss\n",
    "    }\n",
    "    torch.save(checkpoint, file_path)"
   ]
  },
  {
   "cell_type": "markdown",
   "metadata": {},
   "source": [
    "### 4. Training loop"
   ]
  },
  {
   "cell_type": "code",
   "execution_count": null,
   "metadata": {},
   "outputs": [
    {
     "name": "stdout",
     "output_type": "stream",
     "text": [
      "iteration 0 / step 0: train loss 10.7068, val loss 10.8986\n",
      "iteration 0 / step 5: train loss 4.2161, val loss 4.5380\n",
      "iteration 0 / step 10: train loss 3.3610, val loss 3.6074\n",
      "iteration 0 / step 15: train loss 2.9620, val loss 3.2077\n",
      "iteration 0 / step 20: train loss 2.6977, val loss 2.9501\n",
      "iteration 0 / step 25: train loss 2.4703, val loss 2.7307\n",
      "iteration 0 / step 30: train loss 2.3035, val loss 2.5707\n",
      "iteration 0 / step 35: train loss 2.1899, val loss 2.4523\n",
      "iteration 0 / step 40: train loss 2.1046, val loss 2.3585\n",
      "iteration 0 / step 45: train loss 2.0446, val loss 2.2970\n",
      "iteration 0 / step 50: train loss 1.9982, val loss 2.2521\n",
      "iteration 0 / step 55: train loss 1.9602, val loss 2.2222\n",
      "iteration 0 / step 60: train loss 1.9274, val loss 2.1899\n",
      "iteration 0 / step 65: train loss 1.9019, val loss 2.1635\n",
      "iteration 0 / step 70: train loss 1.8795, val loss 2.1401\n",
      "iteration 0 / step 75: train loss 1.8618, val loss 2.1314\n",
      "iteration 0 / step 77: train loss 1.8552, val loss 2.1256\n",
      "iteration 1 / step 0: train loss 1.8513, val loss 2.1209\n",
      "iteration 1 / step 5: train loss 1.8357, val loss 2.1086\n",
      "iteration 1 / step 10: train loss 1.8237, val loss 2.0992\n",
      "iteration 1 / step 15: train loss 1.8055, val loss 2.0818\n",
      "iteration 1 / step 20: train loss 1.7968, val loss 2.0797\n",
      "iteration 1 / step 25: train loss 1.7843, val loss 2.0616\n",
      "iteration 1 / step 30: train loss 1.7778, val loss 2.0598\n",
      "iteration 1 / step 35: train loss 1.7698, val loss 2.0546\n",
      "iteration 1 / step 40: train loss 1.7614, val loss 2.0443\n",
      "iteration 1 / step 45: train loss 1.7503, val loss 2.0351\n",
      "iteration 1 / step 50: train loss 1.7441, val loss 2.0298\n",
      "iteration 1 / step 55: train loss 1.7344, val loss 2.0195\n",
      "iteration 1 / step 60: train loss 1.7269, val loss 2.0128\n",
      "iteration 1 / step 65: train loss 1.7221, val loss 2.0107\n",
      "iteration 1 / step 70: train loss 1.7130, val loss 2.0033\n",
      "iteration 1 / step 75: train loss 1.7095, val loss 2.0032\n",
      "iteration 1 / step 77: train loss 1.7087, val loss 2.0040\n",
      "iteration 2 / step 0: train loss 1.7077, val loss 2.0027\n",
      "iteration 2 / step 5: train loss 1.6979, val loss 1.9944\n",
      "iteration 2 / step 10: train loss 1.6923, val loss 1.9969\n",
      "iteration 2 / step 15: train loss 1.6849, val loss 1.9859\n",
      "iteration 2 / step 20: train loss 1.6782, val loss 1.9843\n",
      "iteration 2 / step 25: train loss 1.6751, val loss 1.9832\n",
      "iteration 2 / step 30: train loss 1.6717, val loss 1.9791\n",
      "iteration 2 / step 35: train loss 1.6660, val loss 1.9786\n",
      "iteration 2 / step 40: train loss 1.6600, val loss 1.9755\n",
      "iteration 2 / step 45: train loss 1.6550, val loss 1.9673\n",
      "iteration 2 / step 50: train loss 1.6509, val loss 1.9724\n",
      "iteration 2 / step 55: train loss 1.6501, val loss 1.9624\n",
      "iteration 2 / step 60: train loss 1.6425, val loss 1.9667\n",
      "iteration 2 / step 65: train loss 1.6392, val loss 1.9571\n",
      "iteration 2 / step 70: train loss 1.6344, val loss 1.9583\n",
      "iteration 2 / step 75: train loss 1.6286, val loss 1.9488\n",
      "iteration 2 / step 77: train loss 1.6278, val loss 1.9464\n",
      "iteration 3 / step 0: train loss 1.6250, val loss 1.9453\n",
      "iteration 3 / step 5: train loss 1.6231, val loss 1.9566\n",
      "iteration 3 / step 10: train loss 1.6166, val loss 1.9538\n",
      "iteration 3 / step 15: train loss 1.6135, val loss 1.9548\n",
      "iteration 3 / step 20: train loss 1.6085, val loss 1.9416\n",
      "iteration 3 / step 25: train loss 1.6017, val loss 1.9512\n",
      "iteration 3 / step 30: train loss 1.6008, val loss 1.9394\n",
      "iteration 3 / step 35: train loss 1.5970, val loss 1.9386\n",
      "iteration 3 / step 40: train loss 1.5922, val loss 1.9396\n",
      "iteration 3 / step 45: train loss 1.5901, val loss 1.9351\n",
      "iteration 3 / step 50: train loss 1.5858, val loss 1.9386\n",
      "iteration 3 / step 55: train loss 1.5823, val loss 1.9284\n",
      "iteration 3 / step 60: train loss 1.5789, val loss 1.9272\n",
      "iteration 3 / step 65: train loss 1.5731, val loss 1.9226\n",
      "iteration 3 / step 70: train loss 1.5703, val loss 1.9317\n",
      "iteration 3 / step 75: train loss 1.5676, val loss 1.9235\n",
      "iteration 3 / step 77: train loss 1.5643, val loss 1.9216\n",
      "iteration 4 / step 0: train loss 1.5636, val loss 1.9246\n",
      "iteration 4 / step 5: train loss 1.5601, val loss 1.9304\n",
      "iteration 4 / step 10: train loss 1.5589, val loss 1.9237\n",
      "iteration 4 / step 15: train loss 1.5563, val loss 1.9247\n",
      "iteration 4 / step 20: train loss 1.5509, val loss 1.9231\n",
      "iteration 4 / step 25: train loss 1.5460, val loss 1.9241\n",
      "iteration 4 / step 30: train loss 1.5440, val loss 1.9183\n",
      "iteration 4 / step 35: train loss 1.5411, val loss 1.9232\n",
      "iteration 4 / step 40: train loss 1.5381, val loss 1.9143\n",
      "iteration 4 / step 45: train loss 1.5368, val loss 1.9107\n",
      "iteration 4 / step 50: train loss 1.5315, val loss 1.9108\n",
      "iteration 4 / step 55: train loss 1.5298, val loss 1.9057\n",
      "iteration 4 / step 60: train loss 1.5223, val loss 1.9122\n",
      "iteration 4 / step 65: train loss 1.5218, val loss 1.9043\n",
      "iteration 4 / step 70: train loss 1.5235, val loss 1.9129\n",
      "iteration 4 / step 75: train loss 1.5155, val loss 1.9026\n",
      "iteration 4 / step 77: train loss 1.5157, val loss 1.9072\n",
      "iteration 5 / step 0: train loss 1.5143, val loss 1.9022\n",
      "iteration 5 / step 5: train loss 1.5083, val loss 1.9178\n",
      "iteration 5 / step 10: train loss 1.5052, val loss 1.9059\n",
      "iteration 5 / step 15: train loss 1.4995, val loss 1.9160\n",
      "iteration 5 / step 20: train loss 1.4991, val loss 1.8963\n",
      "iteration 5 / step 25: train loss 1.4958, val loss 1.9111\n",
      "iteration 5 / step 30: train loss 1.4980, val loss 1.9084\n",
      "iteration 5 / step 35: train loss 1.4922, val loss 1.9107\n",
      "iteration 5 / step 40: train loss 1.4873, val loss 1.9144\n",
      "iteration 5 / step 45: train loss 1.4869, val loss 1.9004\n",
      "iteration 5 / step 50: train loss 1.4816, val loss 1.9010\n",
      "iteration 5 / step 55: train loss 1.4783, val loss 1.8995\n",
      "iteration 5 / step 60: train loss 1.4782, val loss 1.8923\n",
      "iteration 5 / step 65: train loss 1.4744, val loss 1.8933\n",
      "iteration 5 / step 70: train loss 1.4711, val loss 1.8909\n",
      "iteration 5 / step 75: train loss 1.4717, val loss 1.8896\n",
      "iteration 5 / step 77: train loss 1.4697, val loss 1.8847\n",
      "iteration 6 / step 0: train loss 1.4682, val loss 1.8829\n",
      "iteration 6 / step 5: train loss 1.4642, val loss 1.9049\n",
      "iteration 6 / step 10: train loss 1.4602, val loss 1.8906\n",
      "iteration 6 / step 15: train loss 1.4564, val loss 1.9024\n",
      "iteration 6 / step 20: train loss 1.4580, val loss 1.8870\n",
      "iteration 6 / step 25: train loss 1.4521, val loss 1.9021\n",
      "iteration 6 / step 30: train loss 1.4521, val loss 1.8758\n",
      "iteration 6 / step 35: train loss 1.4493, val loss 1.8874\n",
      "iteration 6 / step 40: train loss 1.4455, val loss 1.8880\n",
      "iteration 6 / step 45: train loss 1.4406, val loss 1.8893\n",
      "iteration 6 / step 50: train loss 1.4359, val loss 1.8804\n",
      "iteration 6 / step 55: train loss 1.4352, val loss 1.8759\n",
      "iteration 6 / step 60: train loss 1.4326, val loss 1.8838\n",
      "iteration 6 / step 65: train loss 1.4312, val loss 1.8784\n",
      "iteration 6 / step 70: train loss 1.4290, val loss 1.8833\n",
      "iteration 6 / step 75: train loss 1.4282, val loss 1.8897\n",
      "iteration 6 / step 77: train loss 1.4274, val loss 1.8863\n",
      "iteration 7 / step 0: train loss 1.4266, val loss 1.8857\n",
      "iteration 7 / step 5: train loss 1.4209, val loss 1.8936\n",
      "iteration 7 / step 10: train loss 1.4197, val loss 1.8854\n",
      "iteration 7 / step 15: train loss 1.4151, val loss 1.8930\n",
      "iteration 7 / step 20: train loss 1.4149, val loss 1.8931\n",
      "iteration 7 / step 25: train loss 1.4132, val loss 1.8862\n",
      "iteration 7 / step 30: train loss 1.4088, val loss 1.8829\n",
      "iteration 7 / step 35: train loss 1.4079, val loss 1.8758\n",
      "iteration 7 / step 40: train loss 1.4071, val loss 1.8775\n",
      "iteration 7 / step 45: train loss 1.3968, val loss 1.8691\n",
      "iteration 7 / step 50: train loss 1.3974, val loss 1.8798\n",
      "iteration 7 / step 55: train loss 1.3991, val loss 1.8687\n",
      "iteration 7 / step 60: train loss 1.4003, val loss 1.8695\n",
      "iteration 7 / step 65: train loss 1.3927, val loss 1.8603\n",
      "iteration 7 / step 70: train loss 1.3913, val loss 1.8639\n",
      "iteration 7 / step 75: train loss 1.3870, val loss 1.8647\n",
      "iteration 7 / step 77: train loss 1.3876, val loss 1.8625\n",
      "iteration 8 / step 0: train loss 1.3877, val loss 1.8608\n",
      "iteration 8 / step 5: train loss 1.3856, val loss 1.8983\n",
      "iteration 8 / step 10: train loss 1.3857, val loss 1.8671\n",
      "iteration 8 / step 15: train loss 1.3774, val loss 1.8907\n",
      "iteration 8 / step 20: train loss 1.3791, val loss 1.8773\n",
      "iteration 8 / step 25: train loss 1.3735, val loss 1.8802\n",
      "iteration 8 / step 30: train loss 1.3728, val loss 1.8695\n",
      "iteration 8 / step 35: train loss 1.3693, val loss 1.8882\n",
      "iteration 8 / step 40: train loss 1.3677, val loss 1.8591\n",
      "iteration 8 / step 45: train loss 1.3620, val loss 1.8870\n",
      "iteration 8 / step 50: train loss 1.3630, val loss 1.8610\n",
      "iteration 8 / step 55: train loss 1.3581, val loss 1.8799\n",
      "iteration 8 / step 60: train loss 1.3568, val loss 1.8722\n",
      "iteration 8 / step 65: train loss 1.3556, val loss 1.8649\n",
      "iteration 8 / step 70: train loss 1.3500, val loss 1.8774\n",
      "iteration 8 / step 75: train loss 1.3518, val loss 1.8629\n",
      "iteration 8 / step 77: train loss 1.3485, val loss 1.8710\n",
      "iteration 9 / step 0: train loss 1.3481, val loss 1.8794\n",
      "iteration 9 / step 5: train loss 1.3448, val loss 1.8838\n",
      "iteration 9 / step 10: train loss 1.3434, val loss 1.8896\n",
      "iteration 9 / step 15: train loss 1.3413, val loss 1.8853\n",
      "iteration 9 / step 20: train loss 1.3358, val loss 1.8881\n",
      "iteration 9 / step 25: train loss 1.3357, val loss 1.8846\n",
      "iteration 9 / step 30: train loss 1.3337, val loss 1.8770\n",
      "iteration 9 / step 35: train loss 1.3280, val loss 1.8681\n",
      "iteration 9 / step 40: train loss 1.3317, val loss 1.8720\n",
      "iteration 9 / step 45: train loss 1.3290, val loss 1.8654\n",
      "iteration 9 / step 50: train loss 1.3269, val loss 1.8655\n",
      "iteration 9 / step 55: train loss 1.3287, val loss 1.8570\n",
      "iteration 9 / step 60: train loss 1.3194, val loss 1.8661\n",
      "iteration 9 / step 65: train loss 1.3197, val loss 1.8552\n",
      "iteration 9 / step 70: train loss 1.3172, val loss 1.8733\n",
      "iteration 9 / step 75: train loss 1.3199, val loss 1.8492\n",
      "iteration 9 / step 77: train loss 1.3168, val loss 1.8598\n",
      "iteration 10 / step 0: train loss 1.3155, val loss 1.8641\n",
      "iteration 10 / step 5: train loss 1.3116, val loss 1.8889\n",
      "iteration 10 / step 10: train loss 1.3073, val loss 1.8647\n",
      "iteration 10 / step 15: train loss 1.3025, val loss 1.8849\n",
      "iteration 10 / step 20: train loss 1.3046, val loss 1.8636\n",
      "iteration 10 / step 25: train loss 1.3000, val loss 1.8834\n",
      "iteration 10 / step 30: train loss 1.2994, val loss 1.8768\n",
      "iteration 10 / step 35: train loss 1.2961, val loss 1.8689\n",
      "iteration 10 / step 40: train loss 1.2960, val loss 1.8716\n",
      "iteration 10 / step 45: train loss 1.2986, val loss 1.8699\n",
      "iteration 10 / step 50: train loss 1.2928, val loss 1.8861\n",
      "iteration 10 / step 55: train loss 1.2912, val loss 1.8636\n",
      "iteration 10 / step 60: train loss 1.2861, val loss 1.8646\n",
      "iteration 10 / step 65: train loss 1.2851, val loss 1.8650\n",
      "iteration 10 / step 70: train loss 1.2832, val loss 1.8768\n",
      "iteration 10 / step 75: train loss 1.2782, val loss 1.8618\n",
      "iteration 10 / step 77: train loss 1.2773, val loss 1.8741\n",
      "iteration 11 / step 0: train loss 1.2776, val loss 1.8738\n",
      "iteration 11 / step 5: train loss 1.2788, val loss 1.8849\n",
      "iteration 11 / step 10: train loss 1.2731, val loss 1.8947\n",
      "iteration 11 / step 15: train loss 1.2725, val loss 1.8883\n",
      "iteration 11 / step 20: train loss 1.2702, val loss 1.9087\n",
      "iteration 11 / step 25: train loss 1.2710, val loss 1.8620\n",
      "iteration 11 / step 30: train loss 1.2640, val loss 1.8806\n",
      "iteration 11 / step 35: train loss 1.2630, val loss 1.8717\n",
      "iteration 11 / step 40: train loss 1.2616, val loss 1.8769\n",
      "iteration 11 / step 45: train loss 1.2612, val loss 1.8684\n",
      "iteration 11 / step 50: train loss 1.2608, val loss 1.8694\n",
      "iteration 11 / step 55: train loss 1.2560, val loss 1.8693\n",
      "iteration 11 / step 60: train loss 1.2568, val loss 1.8561\n",
      "iteration 11 / step 65: train loss 1.2517, val loss 1.8690\n",
      "iteration 11 / step 70: train loss 1.2532, val loss 1.8495\n",
      "iteration 11 / step 75: train loss 1.2486, val loss 1.8715\n",
      "iteration 11 / step 77: train loss 1.2479, val loss 1.8631\n",
      "iteration 12 / step 0: train loss 1.2479, val loss 1.8553\n",
      "iteration 12 / step 5: train loss 1.2401, val loss 1.8938\n",
      "iteration 12 / step 10: train loss 1.2414, val loss 1.8711\n",
      "iteration 12 / step 15: train loss 1.2396, val loss 1.8817\n",
      "iteration 12 / step 20: train loss 1.2384, val loss 1.8824\n",
      "iteration 12 / step 25: train loss 1.2374, val loss 1.8752\n",
      "iteration 12 / step 30: train loss 1.2333, val loss 1.8754\n",
      "iteration 12 / step 35: train loss 1.2318, val loss 1.8797\n",
      "iteration 12 / step 40: train loss 1.2339, val loss 1.8665\n",
      "iteration 12 / step 45: train loss 1.2254, val loss 1.8846\n",
      "iteration 12 / step 50: train loss 1.2269, val loss 1.8663\n",
      "iteration 12 / step 55: train loss 1.2226, val loss 1.8978\n",
      "iteration 12 / step 60: train loss 1.2256, val loss 1.8671\n",
      "iteration 12 / step 65: train loss 1.2216, val loss 1.8777\n",
      "iteration 12 / step 70: train loss 1.2240, val loss 1.8654\n",
      "iteration 12 / step 75: train loss 1.2131, val loss 1.8789\n",
      "iteration 12 / step 77: train loss 1.2152, val loss 1.8698\n",
      "iteration 13 / step 0: train loss 1.2155, val loss 1.8695\n",
      "iteration 13 / step 5: train loss 1.2086, val loss 1.9011\n",
      "iteration 13 / step 10: train loss 1.2146, val loss 1.8905\n",
      "iteration 13 / step 15: train loss 1.2055, val loss 1.9017\n",
      "iteration 13 / step 20: train loss 1.2051, val loss 1.8868\n",
      "iteration 13 / step 25: train loss 1.2025, val loss 1.9059\n",
      "iteration 13 / step 30: train loss 1.2042, val loss 1.8875\n",
      "iteration 13 / step 35: train loss 1.1999, val loss 1.9032\n",
      "iteration 13 / step 40: train loss 1.2018, val loss 1.8724\n",
      "iteration 13 / step 45: train loss 1.1971, val loss 1.8959\n",
      "iteration 13 / step 50: train loss 1.1990, val loss 1.8817\n",
      "iteration 13 / step 55: train loss 1.1984, val loss 1.8855\n",
      "iteration 13 / step 60: train loss 1.1996, val loss 1.8790\n",
      "iteration 13 / step 65: train loss 1.1874, val loss 1.8934\n",
      "iteration 13 / step 70: train loss 1.1875, val loss 1.8852\n",
      "iteration 13 / step 75: train loss 1.1931, val loss 1.8724\n",
      "iteration 13 / step 77: train loss 1.1871, val loss 1.8885\n",
      "iteration 14 / step 0: train loss 1.1855, val loss 1.9010\n",
      "iteration 14 / step 5: train loss 1.1823, val loss 1.8939\n",
      "iteration 14 / step 10: train loss 1.1806, val loss 1.9059\n",
      "iteration 14 / step 15: train loss 1.1817, val loss 1.8833\n",
      "iteration 14 / step 20: train loss 1.1706, val loss 1.9074\n",
      "iteration 14 / step 25: train loss 1.1749, val loss 1.8913\n",
      "iteration 14 / step 30: train loss 1.1705, val loss 1.9123\n",
      "iteration 14 / step 35: train loss 1.1735, val loss 1.8956\n",
      "iteration 14 / step 40: train loss 1.1696, val loss 1.9075\n",
      "iteration 14 / step 45: train loss 1.1688, val loss 1.8960\n",
      "iteration 14 / step 50: train loss 1.1644, val loss 1.8993\n",
      "iteration 14 / step 55: train loss 1.1682, val loss 1.8797\n",
      "iteration 14 / step 60: train loss 1.1619, val loss 1.8966\n",
      "iteration 14 / step 65: train loss 1.1629, val loss 1.8858\n",
      "iteration 14 / step 70: train loss 1.1623, val loss 1.8921\n",
      "iteration 14 / step 75: train loss 1.1629, val loss 1.8834\n",
      "iteration 14 / step 77: train loss 1.1576, val loss 1.8955\n",
      "iteration 15 / step 0: train loss 1.1570, val loss 1.8991\n",
      "iteration 15 / step 5: train loss 1.1506, val loss 1.8906\n",
      "iteration 15 / step 10: train loss 1.1469, val loss 1.9263\n",
      "iteration 15 / step 15: train loss 1.1522, val loss 1.8931\n",
      "iteration 15 / step 20: train loss 1.1443, val loss 1.9182\n",
      "iteration 15 / step 25: train loss 1.1481, val loss 1.9038\n",
      "iteration 15 / step 30: train loss 1.1432, val loss 1.9083\n",
      "iteration 15 / step 35: train loss 1.1456, val loss 1.9033\n",
      "iteration 15 / step 40: train loss 1.1431, val loss 1.9048\n",
      "iteration 15 / step 45: train loss 1.1401, val loss 1.9062\n",
      "iteration 15 / step 50: train loss 1.1418, val loss 1.8956\n",
      "iteration 15 / step 55: train loss 1.1409, val loss 1.9153\n",
      "iteration 15 / step 60: train loss 1.1424, val loss 1.8840\n",
      "iteration 15 / step 65: train loss 1.1349, val loss 1.8867\n",
      "iteration 15 / step 70: train loss 1.1315, val loss 1.8864\n",
      "iteration 15 / step 75: train loss 1.1320, val loss 1.8948\n",
      "iteration 15 / step 77: train loss 1.1332, val loss 1.8945\n",
      "iteration 16 / step 0: train loss 1.1337, val loss 1.8897\n",
      "iteration 16 / step 5: train loss 1.1224, val loss 1.9189\n",
      "iteration 16 / step 10: train loss 1.1211, val loss 1.9069\n",
      "iteration 16 / step 15: train loss 1.1200, val loss 1.9124\n",
      "iteration 16 / step 20: train loss 1.1246, val loss 1.9043\n",
      "iteration 16 / step 25: train loss 1.1208, val loss 1.9035\n",
      "iteration 16 / step 30: train loss 1.1178, val loss 1.8980\n",
      "iteration 16 / step 35: train loss 1.1179, val loss 1.9084\n",
      "iteration 16 / step 40: train loss 1.1144, val loss 1.9126\n",
      "iteration 16 / step 45: train loss 1.1126, val loss 1.9078\n",
      "iteration 16 / step 50: train loss 1.1148, val loss 1.9196\n",
      "iteration 16 / step 55: train loss 1.1082, val loss 1.9193\n",
      "iteration 16 / step 60: train loss 1.1101, val loss 1.9049\n",
      "iteration 16 / step 65: train loss 1.1106, val loss 1.9077\n",
      "iteration 16 / step 70: train loss 1.1052, val loss 1.9102\n",
      "iteration 16 / step 75: train loss 1.1040, val loss 1.9074\n",
      "iteration 16 / step 77: train loss 1.1032, val loss 1.9084\n",
      "iteration 17 / step 0: train loss 1.1042, val loss 1.9027\n",
      "iteration 17 / step 5: train loss 1.0988, val loss 1.9374\n",
      "iteration 17 / step 10: train loss 1.0953, val loss 1.9156\n",
      "iteration 17 / step 15: train loss 1.0936, val loss 1.9225\n",
      "iteration 17 / step 20: train loss 1.0920, val loss 1.9177\n",
      "iteration 17 / step 25: train loss 1.0912, val loss 1.9315\n",
      "iteration 17 / step 30: train loss 1.0959, val loss 1.9225\n",
      "iteration 17 / step 35: train loss 1.0911, val loss 1.9277\n",
      "iteration 17 / step 40: train loss 1.0865, val loss 1.9317\n",
      "iteration 17 / step 45: train loss 1.0879, val loss 1.9311\n",
      "iteration 17 / step 50: train loss 1.0884, val loss 1.9211\n",
      "iteration 17 / step 55: train loss 1.0813, val loss 1.9274\n",
      "iteration 17 / step 60: train loss 1.0800, val loss 1.9316\n",
      "iteration 17 / step 65: train loss 1.0825, val loss 1.9114\n",
      "iteration 17 / step 70: train loss 1.0803, val loss 1.9167\n",
      "iteration 17 / step 75: train loss 1.0766, val loss 1.9180\n",
      "iteration 17 / step 77: train loss 1.0781, val loss 1.9197\n",
      "iteration 18 / step 0: train loss 1.0786, val loss 1.9129\n",
      "iteration 18 / step 5: train loss 1.0704, val loss 1.9601\n",
      "iteration 18 / step 10: train loss 1.0757, val loss 1.9311\n",
      "iteration 18 / step 15: train loss 1.0718, val loss 1.9505\n",
      "iteration 18 / step 20: train loss 1.0703, val loss 1.9397\n",
      "iteration 18 / step 25: train loss 1.0653, val loss 1.9540\n",
      "iteration 18 / step 30: train loss 1.0657, val loss 1.9293\n",
      "iteration 18 / step 35: train loss 1.0624, val loss 1.9462\n",
      "iteration 18 / step 40: train loss 1.0658, val loss 1.9225\n",
      "iteration 18 / step 45: train loss 1.0608, val loss 1.9547\n",
      "iteration 18 / step 50: train loss 1.0642, val loss 1.9249\n",
      "iteration 18 / step 55: train loss 1.0543, val loss 1.9409\n",
      "iteration 18 / step 60: train loss 1.0578, val loss 1.9248\n",
      "iteration 18 / step 65: train loss 1.0518, val loss 1.9283\n",
      "iteration 18 / step 70: train loss 1.0511, val loss 1.9318\n",
      "iteration 18 / step 75: train loss 1.0552, val loss 1.9183\n",
      "iteration 18 / step 77: train loss 1.0506, val loss 1.9304\n",
      "iteration 19 / step 0: train loss 1.0498, val loss 1.9379\n",
      "iteration 19 / step 5: train loss 1.0428, val loss 1.9539\n",
      "iteration 19 / step 10: train loss 1.0479, val loss 1.9337\n",
      "iteration 19 / step 15: train loss 1.0396, val loss 1.9539\n",
      "iteration 19 / step 20: train loss 1.0428, val loss 1.9471\n",
      "iteration 19 / step 25: train loss 1.0426, val loss 1.9441\n",
      "iteration 19 / step 30: train loss 1.0423, val loss 1.9350\n",
      "iteration 19 / step 35: train loss 1.0359, val loss 1.9486\n",
      "iteration 19 / step 40: train loss 1.0390, val loss 1.9386\n",
      "iteration 19 / step 45: train loss 1.0363, val loss 1.9365\n",
      "iteration 19 / step 50: train loss 1.0355, val loss 1.9308\n",
      "iteration 19 / step 55: train loss 1.0341, val loss 1.9338\n",
      "iteration 19 / step 60: train loss 1.0336, val loss 1.9313\n",
      "iteration 19 / step 65: train loss 1.0348, val loss 1.9287\n",
      "iteration 19 / step 70: train loss 1.0280, val loss 1.9354\n",
      "iteration 19 / step 75: train loss 1.0319, val loss 1.9203\n",
      "iteration 19 / step 77: train loss 1.0321, val loss 1.9114\n"
     ]
    }
   ],
   "source": [
    "max_iters = 20\n",
    "eval_interval = 5\n",
    "learning_rate = 1e-4\n",
    "\n",
    "optimizer = torch.optim.AdamW(model.parameters(), lr=learning_rate)\n",
    "train_losses = []\n",
    "val_losses = []\n",
    "\n",
    "for iteration in range(max_iters):\n",
    "    for batch_idx, (x_batch, y_batch) in enumerate(train_loader):\n",
    "        # Evaluation\n",
    "        if batch_idx % eval_interval == 0 or batch_idx == len(train_loader) - 1:\n",
    "            losses = estimate_loss(\n",
    "                model=model,\n",
    "                train_loader=train_loader,\n",
    "                val_loader=val_loader,\n",
    "            )\n",
    "            train_losses.append(losses['train'])\n",
    "            val_losses.append(losses['val'])\n",
    "\n",
    "            print(\n",
    "                f\"iteration {iteration} / step {batch_idx}: \"\n",
    "                f\"train loss {losses['train']:.4f}, \"\n",
    "                f\"val loss {losses['val']:.4f}\"\n",
    "            )\n",
    "\n",
    "        # Training step\n",
    "        logits, loss = model(x_batch, y_batch)\n",
    "        optimizer.zero_grad(set_to_none=True)\n",
    "        loss.backward()\n",
    "        optimizer.step()\n",
    "\n",
    "    # Save checkpoint\n",
    "    save_checkpoint(\n",
    "        model=model,\n",
    "        optimizer=optimizer,\n",
    "        epoch=iteration,\n",
    "        loss=loss.item(),\n",
    "        file_path=f\"../output/fine_tuning/run_1/checkpoint_{iteration}.pth\"\n",
    "    )"
   ]
  },
  {
   "cell_type": "code",
   "execution_count": null,
   "metadata": {},
   "outputs": [
    {
     "data": {
      "image/png": "[encoded data removed]",
      "text/plain": [
       "<Figure size 1000x500 with 1 Axes>"
      ]
     },
     "metadata": {},
     "output_type": "display_data"
    }
   ],
   "source": [
    "import matplotlib.pyplot as plt\n",
    "\n",
    "plt.figure(figsize=(10, 5))\n",
    "plt.plot(train_losses, label=\"Train Loss\")\n",
    "plt.plot(val_losses, label=\"Validation Loss\")\n",
    "plt.xlabel(\"Evaluation Step\")\n",
    "plt.ylabel(\"Loss\")\n",
    "plt.title(\"Training and Validation Loss Over Time\")\n",
    "plt.legend()\n",
    "plt.grid()\n",
    "plt.show()"
   ]
  },
  {
   "cell_type": "code",
   "execution_count": null,
   "metadata": {},
   "outputs": [
    {
     "name": "stdout",
     "output_type": "stream",
     "text": [
      "You: Hola\n",
      "Assistant: Sima malo\n",
      "Por se te te lo digo hace mucho puta\n",
      "Por qué q estaba ando me dijera crosa importa\n"
     ]
    }
   ],
   "source": [
    "def get_input_tokens(message: str) -> torch.Tensor:\n",
    "    input_tokens = tokenizer.encode(\n",
    "        f\"<|startoftext|>{message}<|separator|>\", allowed_special=\"all\")\n",
    "    input_tokens = torch.tensor(\n",
    "        input_tokens, dtype=torch.long).unsqueeze(0).to(device)\n",
    "    return input_tokens\n",
    "\n",
    "\n",
    "user_message = \"Hola\"\n",
    "input_tokens = get_input_tokens(message=user_message)\n",
    "model_answer = \"\"\n",
    "\n",
    "model.eval()\n",
    "while True:\n",
    "    output_tokens = model.generate(input_tokens=input_tokens, max_new_tokens=1)\n",
    "    last_generated_token = output_tokens[0, -1].item()\n",
    "    if last_generated_token == tokenizer.special_tokens[\"<|endoftext|>\"]:\n",
    "        break\n",
    "\n",
    "    input_tokens = torch.cat((input_tokens, output_tokens[:, -1:]), dim=1)\n",
    "    model_answer += tokenizer.decode([last_generated_token])\n",
    "\n",
    "    if len(output_tokens[0]) > block_size:\n",
    "        break\n",
    "\n",
    "print(f\"You: {user_message}\")\n",
    "print(f\"Assistant: {model_answer}\")"
   ]
  },
  {
   "cell_type": "code",
   "execution_count": null,
   "metadata": {},
   "outputs": [],
   "source": []
  },
  {
   "cell_type": "code",
   "execution_count": null,
   "metadata": {},
   "outputs": [],
   "source": []
  },
  {
   "cell_type": "code",
   "execution_count": null,
   "metadata": {},
   "outputs": [],
   "source": []
  }
 ],
 "metadata": {
  "kernelspec": {
   "display_name": ".venv",
   "language": "python",
   "name": "python3"
  },
  "language_info": {
   "codemirror_mode": {
    "name": "ipython",
    "version": 3
   },
   "file_extension": ".py",
   "mimetype": "text/x-python",
   "name": "python",
   "nbconvert_exporter": "python",
   "pygments_lexer": "ipython3",
   "version": "3.12.3"
  }
 },
 "nbformat": 4,
 "nbformat_minor": 2
}
