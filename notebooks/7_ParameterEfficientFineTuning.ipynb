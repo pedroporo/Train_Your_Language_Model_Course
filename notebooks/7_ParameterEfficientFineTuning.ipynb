{
 "cells": [
  {
   "cell_type": "markdown",
   "metadata": {},
   "source": [
    "## Prepare the data"
   ]
  },
  {
   "cell_type": "markdown",
   "metadata": {},
   "source": [
    "### 1. Load the fine-tuning data"
   ]
  },
  {
   "cell_type": "code",
   "execution_count": 1,
   "metadata": {},
   "outputs": [],
   "source": [
    "import json\n",
    "\n",
    "file_path = \"../output/fine_tuning/data/fine_tuning.json\"\n",
    "with open(file_path, \"r\") as file:\n",
    "    data = json.load(file)"
   ]
  },
  {
   "cell_type": "markdown",
   "metadata": {},
   "source": [
    "### 2. Load the tokenizer"
   ]
  },
  {
   "cell_type": "code",
   "execution_count": 2,
   "metadata": {},
   "outputs": [],
   "source": [
    "import sys\n",
    "sys.path.append('..')"
   ]
  },
  {
   "cell_type": "code",
   "execution_count": 3,
   "metadata": {},
   "outputs": [],
   "source": [
    "from minbpe import RegexTokenizer\n",
    "\n",
    "tokenizer = RegexTokenizer()\n",
    "tokenizer.load(model_file=\"../output/tokenizer/darija_tokenizer.model\")\n",
    "\n",
    "\n",
    "def get_vocab_size(tokenizer: RegexTokenizer) -> int:\n",
    "    vocab = tokenizer.vocab\n",
    "    special_tokens = tokenizer.special_tokens\n",
    "\n",
    "    return len(vocab) + len(special_tokens)"
   ]
  },
  {
   "cell_type": "markdown",
   "metadata": {},
   "source": [
    "### 3. Tokenize the sequences"
   ]
  },
  {
   "cell_type": "code",
   "execution_count": 4,
   "metadata": {},
   "outputs": [
    {
     "data": {
      "text/plain": [
       "74"
      ]
     },
     "execution_count": 4,
     "metadata": {},
     "output_type": "execute_result"
    }
   ],
   "source": [
    "tokenized_data = []\n",
    "for item in data:\n",
    "    tokenized_item = tokenizer.encode(item, allowed_special=\"all\")\n",
    "    tokenized_data.append(tokenized_item)\n",
    "\n",
    "len(tokenized_data[0])"
   ]
  },
  {
   "cell_type": "markdown",
   "metadata": {},
   "source": [
    "### 4. Split the data"
   ]
  },
  {
   "cell_type": "markdown",
   "metadata": {},
   "source": [
    "We need to be careful when splitting the data. We want to keep the multi-turn conversations complete in each part. So, the training and validation sets should start with a `You` message and end with an `Assistant` message."
   ]
  },
  {
   "cell_type": "code",
   "execution_count": 5,
   "metadata": {},
   "outputs": [
    {
     "name": "stdout",
     "output_type": "stream",
     "text": [
      "Training set: \n",
      "Start message: <|startoftext|>La Wikipedia Del Porno(Andres)\n",
      "End message: <|startoftext|>La Wikipedia Del Porno(Andres)\n",
      "\n",
      "Validation set: \n",
      "Start message: <|startoftext|>Pedro Guill Ferri\n",
      "End message: <|startoftext|>La Wikipedia Del Porno(Andres)\n"
     ]
    }
   ],
   "source": [
    "initial_split_index = int(0.95 * len(data))\n",
    "\n",
    "# Adjusting the index to ensure that the training set ends with \"Assistant\" message\n",
    "# and that the validation set starts with \"You\" message\n",
    "\n",
    "# Scanning backward to find an Assistant message\n",
    "split_index = initial_split_index\n",
    "while split_index > 0 and not data[split_index-1].startswith('<|startoftext|>La Wikipedia Del Porno(Andres)'):\n",
    "    split_index -= 1\n",
    "\n",
    "train_data = data[:split_index]\n",
    "val_data = data[split_index:]\n",
    "\n",
    "print(\"Training set: \")\n",
    "print(f\"Start message: {train_data[0].split('<|separator|>')[0]}\")\n",
    "print(f\"End message: {train_data[-1].split('<|separator|>')[0]}\")\n",
    "\n",
    "print(\"\\nValidation set: \")\n",
    "print(f\"Start message: {val_data[0].split('<|separator|>')[0]}\")\n",
    "print(f\"End message: {val_data[-1].split('<|separator|>')[0]}\")"
   ]
  },
  {
   "cell_type": "markdown",
   "metadata": {},
   "source": [
    "We got the index that we should use to split the data. Now, let's split the tokenized data."
   ]
  },
  {
   "cell_type": "code",
   "execution_count": 6,
   "metadata": {},
   "outputs": [],
   "source": [
    "train_data = tokenized_data[:split_index]\n",
    "val_data = tokenized_data[split_index:]"
   ]
  },
  {
   "cell_type": "markdown",
   "metadata": {},
   "source": [
    "Now, we need to combine the `You` and `Assistant` turns into one sequence. We will make sure that the resulting sequence does not exceed the `block_size`."
   ]
  },
  {
   "cell_type": "code",
   "execution_count": 7,
   "metadata": {},
   "outputs": [],
   "source": [
    "block_size = 256\n",
    "\n",
    "\n",
    "def combine_turns(data: list[list[int]], should_trim_long_sequences: bool) -> list[list[int]]:\n",
    "    combined_turns_data = []\n",
    "    for i in range(0, len(data)-1, 2):\n",
    "        you_message = data[i]\n",
    "        assistant_message = data[i+1]\n",
    "        if not you_message or not assistant_message:\n",
    "            continue\n",
    "\n",
    "        final_message = you_message + assistant_message\n",
    "        if len(final_message) > block_size and should_trim_long_sequences:\n",
    "            final_message = final_message[-block_size:]\n",
    "\n",
    "        combined_turns_data.append(final_message)\n",
    "    return combined_turns_data\n",
    "\n",
    "\n",
    "combined_train_data = combine_turns(\n",
    "    data=train_data,\n",
    "    should_trim_long_sequences=True\n",
    ")\n",
    "combined_val_data = combine_turns(\n",
    "    data=val_data,\n",
    "    should_trim_long_sequences=True\n",
    ")"
   ]
  },
  {
   "cell_type": "code",
   "execution_count": 8,
   "metadata": {},
   "outputs": [
    {
     "name": "stdout",
     "output_type": "stream",
     "text": [
      "Train data\n",
      "Length before: 10405\n",
      "Length after: 5202\n",
      "\n",
      "Validation data\n",
      "Length before: 548\n",
      "Length after: 274\n"
     ]
    }
   ],
   "source": [
    "print(\"Train data\")\n",
    "print(f\"Length before: {len(train_data)}\")\n",
    "print(f\"Length after: {len(combined_train_data)}\")\n",
    "\n",
    "print(\"\\nValidation data\")\n",
    "print(f\"Length before: {len(val_data)}\")\n",
    "print(f\"Length after: {len(combined_val_data)}\")"
   ]
  },
  {
   "cell_type": "markdown",
   "metadata": {},
   "source": [
    "Let's convert each sequence of tokens into a tensor."
   ]
  },
  {
   "cell_type": "code",
   "execution_count": 9,
   "metadata": {},
   "outputs": [],
   "source": [
    "# import torch\n",
    "\n",
    "# train_data = torch.tensor(combined_train_data)\n",
    "# val_data = torch.tensor(combined_val_data)"
   ]
  },
  {
   "cell_type": "markdown",
   "metadata": {},
   "source": [
    "Since our token sequences don't all have the same length, we can't turn the data into a tensor all at once. To do that, all sequences need to have the same length.\n",
    "\n",
    "That's why we need to use padding to fix this problem. We can add padding at the start or end of the sequence. Let's add it to the start."
   ]
  },
  {
   "cell_type": "code",
   "execution_count": 10,
   "metadata": {},
   "outputs": [
    {
     "data": {
      "text/plain": [
       "(torch.Size([5202, 256]), torch.Size([274, 256]))"
      ]
     },
     "execution_count": 10,
     "metadata": {},
     "output_type": "execute_result"
    }
   ],
   "source": [
    "import torch\n",
    "torch.manual_seed(3647)\n",
    "\n",
    "# The token `<|padding|>` is used to mask the padding tokens.\n",
    "# Masking means the model will ignore these tokens during training.\n",
    "# In other words, the loss will not be calculated for these tokens.\n",
    "padding_token = tokenizer.special_tokens[\"<|padding|>\"]\n",
    "\n",
    "\n",
    "def apply_padding_to_data(data: list[list[int]], block_size: int, padding_token: int) -> torch.Tensor:\n",
    "    tensors = []\n",
    "    for i in range(len(data)):\n",
    "        tensor = torch.tensor(data[i])\n",
    "        padded_tensor = torch.nn.functional.pad(\n",
    "            input=tensor,\n",
    "            # for right padding:\n",
    "            pad=(0, block_size - len(tensor)),\n",
    "            # pad=(block_size - len(tensor), 0),\n",
    "            value=padding_token\n",
    "        )\n",
    "        tensors.append(padded_tensor)\n",
    "\n",
    "    return torch.stack(tensors)\n",
    "\n",
    "\n",
    "train_data_tensor = apply_padding_to_data(\n",
    "    data=combined_train_data,\n",
    "    block_size=block_size,\n",
    "    padding_token=padding_token\n",
    ")\n",
    "val_data_tensor = apply_padding_to_data(\n",
    "    data=combined_val_data,\n",
    "    block_size=block_size,\n",
    "    padding_token=padding_token\n",
    ")\n",
    "\n",
    "train_data_tensor.shape, val_data_tensor.shape"
   ]
  },
  {
   "cell_type": "code",
   "execution_count": 11,
   "metadata": {},
   "outputs": [
    {
     "data": {
      "text/plain": [
       "tensor([16384,  4659,  2435,   105,  5291,   351,  1433,  5570,   551,   788,\n",
       "           40,    65,   110,  4591,    41, 16385,    87,   101,   752,    84,\n",
       "          101,   421,   114,   671,   752,    65,  5613,    10,    79,  5613,\n",
       "           42,    10,    83,   111,   375,   442,   325,  3903,   524,   620,\n",
       "           10, 11839,   111,   277,   268,  4452,   258,   476,   272,  1464,\n",
       "          111,   348,   258,  1750,   415,   277,   669,  1424,   330,   361,\n",
       "          334,  4492,   415,   258,   476,   272,    10,    72,   282,  7985,\n",
       "         1389,   347,    63, 16386, 16384,    80,   101,  4556,   568,   373,\n",
       "         1025, 16348, 16385,    83,   105, 16386, 16388, 16388, 16388, 16388,\n",
       "        16388, 16388, 16388, 16388, 16388, 16388, 16388, 16388, 16388, 16388,\n",
       "        16388, 16388, 16388, 16388, 16388, 16388, 16388, 16388, 16388, 16388,\n",
       "        16388, 16388, 16388, 16388, 16388, 16388, 16388, 16388, 16388, 16388,\n",
       "        16388, 16388, 16388, 16388, 16388, 16388, 16388, 16388, 16388, 16388,\n",
       "        16388, 16388, 16388, 16388, 16388, 16388, 16388, 16388, 16388, 16388,\n",
       "        16388, 16388, 16388, 16388, 16388, 16388, 16388, 16388, 16388, 16388,\n",
       "        16388, 16388, 16388, 16388, 16388, 16388, 16388, 16388, 16388, 16388,\n",
       "        16388, 16388, 16388, 16388, 16388, 16388, 16388, 16388, 16388, 16388,\n",
       "        16388, 16388, 16388, 16388, 16388, 16388, 16388, 16388, 16388, 16388,\n",
       "        16388, 16388, 16388, 16388, 16388, 16388, 16388, 16388, 16388, 16388,\n",
       "        16388, 16388, 16388, 16388, 16388, 16388, 16388, 16388, 16388, 16388,\n",
       "        16388, 16388, 16388, 16388, 16388, 16388, 16388, 16388, 16388, 16388,\n",
       "        16388, 16388, 16388, 16388, 16388, 16388, 16388, 16388, 16388, 16388,\n",
       "        16388, 16388, 16388, 16388, 16388, 16388, 16388, 16388, 16388, 16388,\n",
       "        16388, 16388, 16388, 16388, 16388, 16388, 16388, 16388, 16388, 16388,\n",
       "        16388, 16388, 16388, 16388, 16388, 16388, 16388, 16388, 16388, 16388,\n",
       "        16388, 16388, 16388, 16388, 16388, 16388])"
      ]
     },
     "execution_count": 11,
     "metadata": {},
     "output_type": "execute_result"
    }
   ],
   "source": [
    "train_data_tensor[0]"
   ]
  },
  {
   "cell_type": "code",
   "execution_count": 12,
   "metadata": {},
   "outputs": [
    {
     "data": {
      "text/plain": [
       "tensor([16384,    80,   101,  4556,   568,   373,  1025, 16348, 16385, 11391,\n",
       "          293,  6140,   367,   263,  9592,   263,   706,  9356,   443,  2692,\n",
       "          262, 16386, 16384,  4659,  2435,   105,  5291,   351,  1433,  5570,\n",
       "          551,   788,    40,    65,   110,  4591,    41, 16385,    83,   105,\n",
       "        16386, 16388, 16388, 16388, 16388, 16388, 16388, 16388, 16388, 16388,\n",
       "        16388, 16388, 16388, 16388, 16388, 16388, 16388, 16388, 16388, 16388,\n",
       "        16388, 16388, 16388, 16388, 16388, 16388, 16388, 16388, 16388, 16388,\n",
       "        16388, 16388, 16388, 16388, 16388, 16388, 16388, 16388, 16388, 16388,\n",
       "        16388, 16388, 16388, 16388, 16388, 16388, 16388, 16388, 16388, 16388,\n",
       "        16388, 16388, 16388, 16388, 16388, 16388, 16388, 16388, 16388, 16388,\n",
       "        16388, 16388, 16388, 16388, 16388, 16388, 16388, 16388, 16388, 16388,\n",
       "        16388, 16388, 16388, 16388, 16388, 16388, 16388, 16388, 16388, 16388,\n",
       "        16388, 16388, 16388, 16388, 16388, 16388, 16388, 16388, 16388, 16388,\n",
       "        16388, 16388, 16388, 16388, 16388, 16388, 16388, 16388, 16388, 16388,\n",
       "        16388, 16388, 16388, 16388, 16388, 16388, 16388, 16388, 16388, 16388,\n",
       "        16388, 16388, 16388, 16388, 16388, 16388, 16388, 16388, 16388, 16388,\n",
       "        16388, 16388, 16388, 16388, 16388, 16388, 16388, 16388, 16388, 16388,\n",
       "        16388, 16388, 16388, 16388, 16388, 16388, 16388, 16388, 16388, 16388,\n",
       "        16388, 16388, 16388, 16388, 16388, 16388, 16388, 16388, 16388, 16388,\n",
       "        16388, 16388, 16388, 16388, 16388, 16388, 16388, 16388, 16388, 16388,\n",
       "        16388, 16388, 16388, 16388, 16388, 16388, 16388, 16388, 16388, 16388,\n",
       "        16388, 16388, 16388, 16388, 16388, 16388, 16388, 16388, 16388, 16388,\n",
       "        16388, 16388, 16388, 16388, 16388, 16388, 16388, 16388, 16388, 16388,\n",
       "        16388, 16388, 16388, 16388, 16388, 16388, 16388, 16388, 16388, 16388,\n",
       "        16388, 16388, 16388, 16388, 16388, 16388, 16388, 16388, 16388, 16388,\n",
       "        16388, 16388, 16388, 16388, 16388, 16388])"
      ]
     },
     "execution_count": 12,
     "metadata": {},
     "output_type": "execute_result"
    }
   ],
   "source": [
    "val_data_tensor[0]"
   ]
  },
  {
   "cell_type": "markdown",
   "metadata": {},
   "source": [
    "### 5. Creat the data loaders"
   ]
  },
  {
   "cell_type": "code",
   "execution_count": 13,
   "metadata": {},
   "outputs": [
    {
     "data": {
      "text/plain": [
       "torch.Size([5202, 256])"
      ]
     },
     "execution_count": 13,
     "metadata": {},
     "output_type": "execute_result"
    }
   ],
   "source": [
    "train_data_tensor.shape"
   ]
  },
  {
   "cell_type": "code",
   "execution_count": 14,
   "metadata": {},
   "outputs": [],
   "source": [
    "from typing import Tuple\n",
    "from torch.utils.data import Dataset, DataLoader\n",
    "\n",
    "\n",
    "class FineTuningDataset(Dataset):\n",
    "    def __init__(self, data: torch.Tensor, device: torch.device, padding_token: int):\n",
    "        self.data = data  # shape: (num_samples, block_size)\n",
    "        self.device = device\n",
    "        self.padding_token = padding_token\n",
    "\n",
    "    def __len__(self) -> int:\n",
    "        return len(self.data)\n",
    "\n",
    "    def __getitem__(self, index: int) -> Tuple[torch.Tensor, torch.Tensor]:\n",
    "        sample = self.data[index]\n",
    "        x = sample.to(self.device)\n",
    "        y = sample[1:].to(self.device)\n",
    "        padding_tensor = torch.tensor([self.padding_token], device=self.device)\n",
    "        y = torch.cat((y, padding_tensor))\n",
    "        return x, y\n",
    "\n",
    "\n",
    "batch_size = 64\n",
    "device = torch.device(\"cuda\" if torch.cuda.is_available() else \"cpu\")\n",
    "\n",
    "train_dataset = FineTuningDataset(\n",
    "    data=train_data_tensor,\n",
    "    device=device,\n",
    "    padding_token=padding_token\n",
    ")\n",
    "train_loader = DataLoader(\n",
    "    dataset=train_dataset,\n",
    "    batch_size=batch_size,\n",
    "    shuffle=True\n",
    ")\n",
    "\n",
    "val_dataset = FineTuningDataset(\n",
    "    data=val_data_tensor,\n",
    "    device=device,\n",
    "    padding_token=padding_token\n",
    ")\n",
    "val_loader = DataLoader(\n",
    "    dataset=val_dataset,\n",
    "    batch_size=batch_size,\n",
    "    shuffle=False\n",
    ")"
   ]
  },
  {
   "cell_type": "code",
   "execution_count": 15,
   "metadata": {},
   "outputs": [
    {
     "data": {
      "text/plain": [
       "(torch.Size([64, 256]), torch.Size([64, 256]))"
      ]
     },
     "execution_count": 15,
     "metadata": {},
     "output_type": "execute_result"
    }
   ],
   "source": [
    "x, y = next(iter(train_loader))\n",
    "x.shape, y.shape"
   ]
  },
  {
   "cell_type": "markdown",
   "metadata": {},
   "source": [
    "## Fine-tuning with LoRA"
   ]
  },
  {
   "cell_type": "markdown",
   "metadata": {},
   "source": [
    "### 1. Load the saved checkpoint"
   ]
  },
  {
   "cell_type": "code",
   "execution_count": 16,
   "metadata": {},
   "outputs": [
    {
     "name": "stdout",
     "output_type": "stream",
     "text": [
      "29.539338 M parameters\n"
     ]
    }
   ],
   "source": [
    "from transformer.model import GPTLanguageModel\n",
    "\n",
    "block_size = 256\n",
    "n_embd = 512\n",
    "n_head = 8\n",
    "n_layer = 4\n",
    "dropout = 0.2\n",
    "batch_size = 64\n",
    "vocab_size = get_vocab_size(tokenizer)\n",
    "\n",
    "model = GPTLanguageModel(\n",
    "    vocab_size=vocab_size,\n",
    "    block_size=block_size,\n",
    "    n_embd=n_embd,\n",
    "    n_head=n_head,\n",
    "    n_layer=n_layer,\n",
    "    dropout=dropout,\n",
    "    device=device,\n",
    "    ignore_index=tokenizer.special_tokens[\"<|padding|>\"],\n",
    ").to(device)\n",
    "model = torch.compile(model)\n",
    "\n",
    "print(sum(p.numel() for p in model.parameters())/1e6, 'M parameters')"
   ]
  },
  {
   "cell_type": "code",
   "execution_count": 18,
   "metadata": {},
   "outputs": [
    {
     "ename": "RuntimeError",
     "evalue": "Error(s) in loading state_dict for OptimizedModule:\n\tsize mismatch for _orig_mod.token_embedding_table.weight: copying a param with shape torch.Size([1034, 512]) from checkpoint, the shape in current model is torch.Size([16394, 512]).\n\tsize mismatch for _orig_mod.final_linear_layer.weight: copying a param with shape torch.Size([1034, 512]) from checkpoint, the shape in current model is torch.Size([16394, 512]).\n\tsize mismatch for _orig_mod.final_linear_layer.bias: copying a param with shape torch.Size([1034]) from checkpoint, the shape in current model is torch.Size([16394]).",
     "output_type": "error",
     "traceback": [
      "\u001b[31m---------------------------------------------------------------------------\u001b[39m",
      "\u001b[31mRuntimeError\u001b[39m                              Traceback (most recent call last)",
      "\u001b[36mCell\u001b[39m\u001b[36m \u001b[39m\u001b[32mIn[18]\u001b[39m\u001b[32m, line 5\u001b[39m\n\u001b[32m      2\u001b[39m checkpoint = torch.load(\n\u001b[32m      3\u001b[39m     checkpoint_path, weights_only=\u001b[38;5;28;01mTrue\u001b[39;00m, map_location=device)\n\u001b[32m      4\u001b[39m model_state_dict = checkpoint[\u001b[33m\"\u001b[39m\u001b[33mmodel_state_dict\u001b[39m\u001b[33m\"\u001b[39m]\n\u001b[32m----> \u001b[39m\u001b[32m5\u001b[39m \u001b[43mmodel\u001b[49m\u001b[43m.\u001b[49m\u001b[43mload_state_dict\u001b[49m\u001b[43m(\u001b[49m\u001b[43mmodel_state_dict\u001b[49m\u001b[43m)\u001b[49m\n",
      "\u001b[36mFile \u001b[39m\u001b[32m~/Documentos/Proyectos/Train_Your_Language_Model_Course/.venv/lib/python3.12/site-packages/torch/nn/modules/module.py:2584\u001b[39m, in \u001b[36mModule.load_state_dict\u001b[39m\u001b[34m(self, state_dict, strict, assign)\u001b[39m\n\u001b[32m   2576\u001b[39m         error_msgs.insert(\n\u001b[32m   2577\u001b[39m             \u001b[32m0\u001b[39m,\n\u001b[32m   2578\u001b[39m             \u001b[33m\"\u001b[39m\u001b[33mMissing key(s) in state_dict: \u001b[39m\u001b[38;5;132;01m{}\u001b[39;00m\u001b[33m. \u001b[39m\u001b[33m\"\u001b[39m.format(\n\u001b[32m   2579\u001b[39m                 \u001b[33m\"\u001b[39m\u001b[33m, \u001b[39m\u001b[33m\"\u001b[39m.join(\u001b[33mf\u001b[39m\u001b[33m'\u001b[39m\u001b[33m\"\u001b[39m\u001b[38;5;132;01m{\u001b[39;00mk\u001b[38;5;132;01m}\u001b[39;00m\u001b[33m\"\u001b[39m\u001b[33m'\u001b[39m \u001b[38;5;28;01mfor\u001b[39;00m k \u001b[38;5;129;01min\u001b[39;00m missing_keys)\n\u001b[32m   2580\u001b[39m             ),\n\u001b[32m   2581\u001b[39m         )\n\u001b[32m   2583\u001b[39m \u001b[38;5;28;01mif\u001b[39;00m \u001b[38;5;28mlen\u001b[39m(error_msgs) > \u001b[32m0\u001b[39m:\n\u001b[32m-> \u001b[39m\u001b[32m2584\u001b[39m     \u001b[38;5;28;01mraise\u001b[39;00m \u001b[38;5;167;01mRuntimeError\u001b[39;00m(\n\u001b[32m   2585\u001b[39m         \u001b[33m\"\u001b[39m\u001b[33mError(s) in loading state_dict for \u001b[39m\u001b[38;5;132;01m{}\u001b[39;00m\u001b[33m:\u001b[39m\u001b[38;5;130;01m\\n\u001b[39;00m\u001b[38;5;130;01m\\t\u001b[39;00m\u001b[38;5;132;01m{}\u001b[39;00m\u001b[33m\"\u001b[39m.format(\n\u001b[32m   2586\u001b[39m             \u001b[38;5;28mself\u001b[39m.\u001b[34m__class__\u001b[39m.\u001b[34m__name__\u001b[39m, \u001b[33m\"\u001b[39m\u001b[38;5;130;01m\\n\u001b[39;00m\u001b[38;5;130;01m\\t\u001b[39;00m\u001b[33m\"\u001b[39m.join(error_msgs)\n\u001b[32m   2587\u001b[39m         )\n\u001b[32m   2588\u001b[39m     )\n\u001b[32m   2589\u001b[39m \u001b[38;5;28;01mreturn\u001b[39;00m _IncompatibleKeys(missing_keys, unexpected_keys)\n",
      "\u001b[31mRuntimeError\u001b[39m: Error(s) in loading state_dict for OptimizedModule:\n\tsize mismatch for _orig_mod.token_embedding_table.weight: copying a param with shape torch.Size([1034, 512]) from checkpoint, the shape in current model is torch.Size([16394, 512]).\n\tsize mismatch for _orig_mod.final_linear_layer.weight: copying a param with shape torch.Size([1034, 512]) from checkpoint, the shape in current model is torch.Size([16394, 512]).\n\tsize mismatch for _orig_mod.final_linear_layer.bias: copying a param with shape torch.Size([1034]) from checkpoint, the shape in current model is torch.Size([16394])."
     ]
    }
   ],
   "source": [
    "checkpoint_path = \"../output/pre_training/base_model_checkpoint.pth\"\n",
    "checkpoint = torch.load(\n",
    "    checkpoint_path, weights_only=True, map_location=device)\n",
    "model_state_dict = checkpoint[\"model_state_dict\"]\n",
    "model.load_state_dict(model_state_dict)"
   ]
  },
  {
   "cell_type": "markdown",
   "metadata": {},
   "source": [
    "### 2. Add LoRA layers"
   ]
  },
  {
   "cell_type": "code",
   "execution_count": null,
   "metadata": {},
   "outputs": [
    {
     "name": "stdout",
     "output_type": "stream",
     "text": [
      "All parameters: 14.12M | Trainable parameters: 0.33M | Trainable %: 2.31%\n"
     ]
    }
   ],
   "source": [
    "from transformer.lora import get_lora_model, print_trainable_parameters\n",
    "\n",
    "lora_model = get_lora_model(\n",
    "    model=model,\n",
    "    lora_config={\n",
    "        \"rank\": 4,\n",
    "        \"alpha\": 8,\n",
    "    },\n",
    "    device=device,\n",
    ")\n",
    "print_trainable_parameters(lora_model)"
   ]
  },
  {
   "cell_type": "markdown",
   "metadata": {},
   "source": [
    "Generate from the model to make sure that the weights were loaded correctly."
   ]
  },
  {
   "cell_type": "code",
   "execution_count": null,
   "metadata": {},
   "outputs": [
    {
     "name": "stdout",
     "output_type": "stream",
     "text": [
      "Hola Chale Si Seee Q putas pear contra nosotros 2 xD Chale Busca xD Si xD Puta essiempre de lognifica que erte xD Moto hale xD Si xD Rafa enos paja xD Brutal amente el chiston porno El uscame pero tambien xD Si xD Remetor Un puñ no tiene nada que es de gt se han hechizo clase \n"
     ]
    }
   ],
   "source": [
    "input_tokens = tokenizer.encode(\"Hola \", allowed_special=\"all\")\n",
    "input_tokens = torch.tensor(\n",
    "    input_tokens, dtype=torch.long).unsqueeze(0).to(device)\n",
    "\n",
    "model.eval()\n",
    "with torch.no_grad():\n",
    "    output = model.generate(input_tokens=input_tokens, max_new_tokens=100)\n",
    "\n",
    "print(tokenizer.decode(output[0].tolist()))"
   ]
  },
  {
   "cell_type": "code",
   "execution_count": null,
   "metadata": {},
   "outputs": [
    {
     "name": "stdout",
     "output_type": "stream",
     "text": [
      "Hola si ya esta llendo manga Que Si Pues ya la tengo el conecta 15 años Pepe Que ya me estoda la temporada 3 años nuevo asi compraste mi cuenta por qué no hay una vez te lista cuando tengas un pc porno de pj en que e vuelvo a empezar el mismo alidad para que vuelvo a empezar el pc Duro Si Pues si no es tal Ok Ahora si Ok Es porque pez\n"
     ]
    }
   ],
   "source": [
    "input_tokens = tokenizer.encode(\"Hola \", allowed_special=\"all\")\n",
    "input_tokens = torch.tensor(\n",
    "    input_tokens, dtype=torch.long).unsqueeze(0).to(device)\n",
    "\n",
    "lora_model.eval()\n",
    "with torch.no_grad():\n",
    "    output = lora_model.generate(input_tokens=input_tokens, max_new_tokens=100)\n",
    "\n",
    "print(tokenizer.decode(output[0].tolist()))"
   ]
  },
  {
   "cell_type": "markdown",
   "metadata": {},
   "source": [
    "### 3. Estimate loss"
   ]
  },
  {
   "cell_type": "code",
   "execution_count": null,
   "metadata": {},
   "outputs": [],
   "source": [
    "from typing import Dict\n",
    "\n",
    "\n",
    "@torch.no_grad()\n",
    "def estimate_loss(\n",
    "    model: torch.nn.Module,\n",
    "    train_loader: DataLoader,\n",
    "    val_loader: DataLoader,\n",
    ") -> Dict[str, float]:\n",
    "    output = {}\n",
    "    model.eval()\n",
    "\n",
    "    for split, loader in [('train', train_loader), ('val', val_loader)]:\n",
    "        losses = []\n",
    "        for x, y in loader:\n",
    "            with torch.no_grad():\n",
    "                _, loss = model(x, y)\n",
    "            losses.append(loss.item())\n",
    "        output[split] = sum(losses) / len(losses)\n",
    "\n",
    "    model.train()\n",
    "    return output"
   ]
  },
  {
   "cell_type": "markdown",
   "metadata": {},
   "source": [
    "### 4. Save checkpoints"
   ]
  },
  {
   "cell_type": "code",
   "execution_count": null,
   "metadata": {},
   "outputs": [],
   "source": [
    "def save_checkpoint(\n",
    "    model: GPTLanguageModel,\n",
    "    optimizer: torch.optim.Optimizer,\n",
    "    epoch: int,\n",
    "    loss: float,\n",
    "    file_path: str = \"checkpoint.pth\"\n",
    ") -> None:\n",
    "    checkpoint = {\n",
    "        'epoch': epoch,\n",
    "        'model_state_dict': model.state_dict(),\n",
    "        'optimizer_state_dict': optimizer.state_dict(),\n",
    "        'loss': loss\n",
    "    }\n",
    "    torch.save(checkpoint, file_path)"
   ]
  },
  {
   "cell_type": "markdown",
   "metadata": {},
   "source": [
    "### 5. Training loop"
   ]
  },
  {
   "cell_type": "code",
   "execution_count": null,
   "metadata": {},
   "outputs": [
    {
     "name": "stdout",
     "output_type": "stream",
     "text": [
      "iteration 0 / step 0: train loss 10.4962, val loss 10.6630\n",
      "iteration 0 / step 10: train loss 3.4523, val loss 4.0698\n",
      "iteration 0 / step 20: train loss 2.7472, val loss 3.5044\n",
      "iteration 0 / step 30: train loss 2.3696, val loss 3.1571\n",
      "iteration 0 / step 40: train loss 2.2225, val loss 2.9371\n",
      "iteration 0 / step 50: train loss 2.1410, val loss 2.9390\n",
      "iteration 0 / step 60: train loss 2.0895, val loss 2.9345\n",
      "iteration 0 / step 70: train loss 2.0416, val loss 2.8922\n",
      "iteration 0 / step 80: train loss 2.0142, val loss 2.9152\n",
      "iteration 0 / step 81: train loss 2.0142, val loss 2.9002\n",
      "iteration 1 / step 0: train loss 2.0158, val loss 2.8949\n",
      "iteration 1 / step 10: train loss 1.9905, val loss 2.8754\n",
      "iteration 1 / step 20: train loss 1.9659, val loss 2.8883\n",
      "iteration 1 / step 30: train loss 1.9466, val loss 2.8849\n",
      "iteration 1 / step 40: train loss 1.9381, val loss 2.9089\n",
      "iteration 1 / step 50: train loss 1.9254, val loss 2.8904\n",
      "iteration 1 / step 60: train loss 1.9273, val loss 2.8772\n",
      "iteration 1 / step 70: train loss 1.9129, val loss 2.8617\n",
      "iteration 1 / step 80: train loss 1.9057, val loss 2.8853\n",
      "iteration 1 / step 81: train loss 1.9108, val loss 2.8925\n",
      "iteration 2 / step 0: train loss 1.9074, val loss 2.8826\n",
      "iteration 2 / step 10: train loss 1.8983, val loss 2.9002\n",
      "iteration 2 / step 20: train loss 1.8874, val loss 2.9066\n",
      "iteration 2 / step 30: train loss 1.8787, val loss 2.8415\n",
      "iteration 2 / step 40: train loss 1.8742, val loss 2.9050\n",
      "iteration 2 / step 50: train loss 1.8678, val loss 2.8896\n",
      "iteration 2 / step 60: train loss 1.8644, val loss 2.9043\n",
      "iteration 2 / step 70: train loss 1.8590, val loss 2.9319\n",
      "iteration 2 / step 80: train loss 1.8535, val loss 2.8971\n",
      "iteration 2 / step 81: train loss 1.8541, val loss 2.9126\n",
      "iteration 3 / step 0: train loss 1.8505, val loss 2.9333\n",
      "iteration 3 / step 10: train loss 1.8497, val loss 2.8967\n",
      "iteration 3 / step 20: train loss 1.8491, val loss 2.8922\n",
      "iteration 3 / step 30: train loss 1.8498, val loss 2.9237\n",
      "iteration 3 / step 40: train loss 1.8406, val loss 2.9268\n",
      "iteration 3 / step 50: train loss 1.8440, val loss 2.9618\n",
      "iteration 3 / step 60: train loss 1.8354, val loss 2.9184\n",
      "iteration 3 / step 70: train loss 1.8330, val loss 2.9925\n",
      "iteration 3 / step 80: train loss 1.8303, val loss 2.9688\n",
      "iteration 3 / step 81: train loss 1.8328, val loss 2.9807\n",
      "iteration 4 / step 0: train loss 1.8347, val loss 2.9910\n",
      "iteration 4 / step 10: train loss 1.8383, val loss 2.9927\n",
      "iteration 4 / step 20: train loss 1.8224, val loss 2.9499\n",
      "iteration 4 / step 30: train loss 1.8240, val loss 2.9599\n",
      "iteration 4 / step 40: train loss 1.8250, val loss 2.9983\n",
      "iteration 4 / step 50: train loss 1.8173, val loss 3.0330\n",
      "iteration 4 / step 60: train loss 1.8149, val loss 2.9595\n",
      "iteration 4 / step 70: train loss 1.8261, val loss 3.0021\n",
      "iteration 4 / step 80: train loss 1.8167, val loss 2.9836\n",
      "iteration 4 / step 81: train loss 1.8178, val loss 2.9921\n",
      "iteration 5 / step 0: train loss 1.8118, val loss 3.0110\n",
      "iteration 5 / step 10: train loss 1.8171, val loss 3.0066\n",
      "iteration 5 / step 20: train loss 1.8089, val loss 2.9709\n",
      "iteration 5 / step 30: train loss 1.8094, val loss 2.9876\n",
      "iteration 5 / step 40: train loss 1.8089, val loss 3.0311\n",
      "iteration 5 / step 50: train loss 1.8064, val loss 3.0003\n",
      "iteration 5 / step 60: train loss 1.8069, val loss 3.0395\n",
      "iteration 5 / step 70: train loss 1.8055, val loss 3.0586\n",
      "iteration 5 / step 80: train loss 1.7996, val loss 3.0703\n",
      "iteration 5 / step 81: train loss 1.8020, val loss 3.0813\n",
      "iteration 6 / step 0: train loss 1.8037, val loss 3.0789\n",
      "iteration 6 / step 10: train loss 1.8004, val loss 3.0194\n",
      "iteration 6 / step 20: train loss 1.7995, val loss 3.0012\n",
      "iteration 6 / step 30: train loss 1.7979, val loss 3.0268\n",
      "iteration 6 / step 40: train loss 1.7985, val loss 3.0248\n",
      "iteration 6 / step 50: train loss 1.7958, val loss 3.0491\n",
      "iteration 6 / step 60: train loss 1.7967, val loss 3.0679\n",
      "iteration 6 / step 70: train loss 1.7965, val loss 3.0733\n",
      "iteration 6 / step 80: train loss 1.7926, val loss 3.0561\n",
      "iteration 6 / step 81: train loss 1.7935, val loss 3.0503\n",
      "iteration 7 / step 0: train loss 1.7930, val loss 3.0488\n",
      "iteration 7 / step 10: train loss 1.7932, val loss 3.0472\n",
      "iteration 7 / step 20: train loss 1.7919, val loss 3.0422\n",
      "iteration 7 / step 30: train loss 1.7904, val loss 3.1114\n",
      "iteration 7 / step 40: train loss 1.7994, val loss 3.1007\n",
      "iteration 7 / step 50: train loss 1.7875, val loss 3.0790\n",
      "iteration 7 / step 60: train loss 1.7891, val loss 3.0501\n",
      "iteration 7 / step 70: train loss 1.7901, val loss 3.0436\n",
      "iteration 7 / step 80: train loss 1.7892, val loss 3.0451\n",
      "iteration 7 / step 81: train loss 1.7852, val loss 3.0535\n",
      "iteration 8 / step 0: train loss 1.7870, val loss 3.0639\n",
      "iteration 8 / step 10: train loss 1.7901, val loss 2.9916\n",
      "iteration 8 / step 20: train loss 1.7826, val loss 3.0627\n",
      "iteration 8 / step 30: train loss 1.7846, val loss 3.1065\n",
      "iteration 8 / step 40: train loss 1.7833, val loss 3.0959\n",
      "iteration 8 / step 50: train loss 1.7809, val loss 3.0999\n",
      "iteration 8 / step 60: train loss 1.7795, val loss 3.0583\n",
      "iteration 8 / step 70: train loss 1.7787, val loss 3.0585\n",
      "iteration 8 / step 80: train loss 1.7752, val loss 3.0560\n",
      "iteration 8 / step 81: train loss 1.7762, val loss 3.0558\n",
      "iteration 9 / step 0: train loss 1.7841, val loss 3.0775\n",
      "iteration 9 / step 10: train loss 1.7806, val loss 3.0773\n",
      "iteration 9 / step 20: train loss 1.7841, val loss 3.0587\n",
      "iteration 9 / step 30: train loss 1.7756, val loss 3.0819\n",
      "iteration 9 / step 40: train loss 1.7844, val loss 3.1211\n",
      "iteration 9 / step 50: train loss 1.7754, val loss 3.0235\n",
      "iteration 9 / step 60: train loss 1.7722, val loss 2.9773\n",
      "iteration 9 / step 70: train loss 1.7724, val loss 3.0338\n",
      "iteration 9 / step 80: train loss 1.7805, val loss 3.0601\n",
      "iteration 9 / step 81: train loss 1.7781, val loss 3.0491\n"
     ]
    }
   ],
   "source": [
    "max_iters = 10\n",
    "eval_interval = 10\n",
    "learning_rate = 1e-4\n",
    "\n",
    "optimizer = torch.optim.AdamW(lora_model.parameters(), lr=learning_rate)\n",
    "train_losses = []\n",
    "val_losses = []\n",
    "\n",
    "for iteration in range(max_iters):\n",
    "    for batch_idx, (x_batch, y_batch) in enumerate(train_loader):\n",
    "        # Evaluation\n",
    "        if batch_idx % eval_interval == 0 or batch_idx == len(train_loader) - 1:\n",
    "            losses = estimate_loss(\n",
    "                model=lora_model,\n",
    "                train_loader=train_loader,\n",
    "                val_loader=val_loader,\n",
    "            )\n",
    "            train_losses.append(losses['train'])\n",
    "            val_losses.append(losses['val'])\n",
    "\n",
    "            print(\n",
    "                f\"iteration {iteration} / step {batch_idx}: \"\n",
    "                f\"train loss {losses['train']:.4f}, \"\n",
    "                f\"val loss {losses['val']:.4f}\"\n",
    "            )\n",
    "\n",
    "        # Training step\n",
    "        logits, loss = lora_model(x_batch, y_batch)\n",
    "        optimizer.zero_grad(set_to_none=True)\n",
    "        loss.backward()\n",
    "        optimizer.step()\n",
    "\n",
    "    # Save checkpoint\n",
    "    save_checkpoint(\n",
    "        model=lora_model,\n",
    "        optimizer=optimizer,\n",
    "        epoch=iteration,\n",
    "        loss=loss.item(),\n",
    "        file_path=f\"../output/fine_tuning/adapters/run_1/checkpoint_{iteration}.pth\"\n",
    "    )"
   ]
  },
  {
   "cell_type": "code",
   "execution_count": null,
   "metadata": {},
   "outputs": [
    {
     "data": {
      "image/png": "[encoded data removed]",
      "text/plain": [
       "<Figure size 1000x500 with 1 Axes>"
      ]
     },
     "metadata": {},
     "output_type": "display_data"
    }
   ],
   "source": [
    "import matplotlib.pyplot as plt\n",
    "\n",
    "plt.figure(figsize=(10, 5))\n",
    "plt.plot(train_losses, label=\"Train Loss\")\n",
    "plt.plot(val_losses, label=\"Validation Loss\")\n",
    "plt.xlabel(\"Evaluation Step\")\n",
    "plt.ylabel(\"Loss\")\n",
    "plt.title(\"Training and Validation Loss Over Time\")\n",
    "plt.legend()\n",
    "plt.grid()\n",
    "plt.show()"
   ]
  },
  {
   "cell_type": "code",
   "execution_count": null,
   "metadata": {},
   "outputs": [
    {
     "name": "stdout",
     "output_type": "stream",
     "text": [
      "You: Hola\n",
      "Assistant: Wikipedia Del Porno(Andres)<|separator|>Y puedo\n",
      "Sigúl la el perdía más prómo val de si vilg cuán de cos y Conde mama no ultima manga de r como\n"
     ]
    }
   ],
   "source": [
    "def get_input_tokens(message: str) -> torch.Tensor:\n",
    "    input_tokens = tokenizer.encode(\n",
    "        f\"<|startoftext|>{message}<|separator|>\", allowed_special=\"all\")\n",
    "    input_tokens = torch.tensor(\n",
    "        input_tokens, dtype=torch.long).unsqueeze(0).to(device)\n",
    "    return input_tokens\n",
    "\n",
    "\n",
    "user_message = \"Hola\"\n",
    "input_tokens = get_input_tokens(message=user_message)\n",
    "model_answer = \"\"\n",
    "\n",
    "lora_model.eval()\n",
    "while True:\n",
    "    output_tokens = lora_model.generate(\n",
    "        input_tokens=input_tokens, max_new_tokens=1)\n",
    "    last_generated_token = output_tokens[0, -1].item()\n",
    "    if last_generated_token == tokenizer.special_tokens[\"<|endoftext|>\"]:\n",
    "        break\n",
    "\n",
    "    input_tokens = torch.cat((input_tokens, output_tokens[:, -1:]), dim=1)\n",
    "    model_answer += tokenizer.decode([last_generated_token])\n",
    "\n",
    "    if len(output_tokens[0]) > block_size:\n",
    "        input_tokens = input_tokens[:, -block_size:]\n",
    "\n",
    "print(f\"You: {user_message}\")\n",
    "print(f\"Assistant: {model_answer}\")"
   ]
  }
 ],
 "metadata": {
  "kernelspec": {
   "display_name": ".venv",
   "language": "python",
   "name": "python3"
  },
  "language_info": {
   "codemirror_mode": {
    "name": "ipython",
    "version": 3
   },
   "file_extension": ".py",
   "mimetype": "text/x-python",
   "name": "python",
   "nbconvert_exporter": "python",
   "pygments_lexer": "ipython3",
   "version": "3.12.3"
  }
 },
 "nbformat": 4,
 "nbformat_minor": 2
}
