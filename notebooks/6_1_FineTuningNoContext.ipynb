{
 "cells": [
  {
   "cell_type": "markdown",
   "metadata": {},
   "source": [
    "## Prepare the data"
   ]
  },
  {
   "cell_type": "markdown",
   "metadata": {},
   "source": [
    "### 1. Load the fine-tuning data"
   ]
  },
  {
   "cell_type": "code",
   "execution_count": 1,
   "metadata": {},
   "outputs": [],
   "source": [
    "import json\n",
    "\n",
    "file_path = \"../output/fine_tuning/data/fine_tuning.json\"\n",
    "with open(file_path, \"r\") as file:\n",
    "    data = json.load(file)"
   ]
  },
  {
   "cell_type": "markdown",
   "metadata": {},
   "source": [
    "### 2. Load the tokenizer"
   ]
  },
  {
   "cell_type": "code",
   "execution_count": 2,
   "metadata": {},
   "outputs": [],
   "source": [
    "import sys\n",
    "sys.path.append('..')"
   ]
  },
  {
   "cell_type": "code",
   "execution_count": null,
   "metadata": {},
   "outputs": [],
   "source": [
    "from minbpe import RegexTokenizer\n",
    "\n",
    "tokenizer = RegexTokenizer()\n",
    "tokenizer.load(model_file=\"../output/tokenizer/darija_tokenizer.model\")\n",
    "\n",
    "\n",
    "def get_vocab_size(tokenizer: RegexTokenizer) -> int:\n",
    "    vocab = tokenizer.vocab\n",
    "    special_tokens = tokenizer.special_tokens\n",
    "\n",
    "    return len(vocab) + len(special_tokens)"
   ]
  },
  {
   "cell_type": "markdown",
   "metadata": {},
   "source": [
    "### 3. Tokenize the sequences"
   ]
  },
  {
   "cell_type": "code",
   "execution_count": 4,
   "metadata": {},
   "outputs": [
    {
     "data": {
      "text/plain": [
       "120"
      ]
     },
     "execution_count": 4,
     "metadata": {},
     "output_type": "execute_result"
    }
   ],
   "source": [
    "tokenized_data = []\n",
    "for item in data:\n",
    "    tokenized_item = tokenizer.encode(item, allowed_special=\"all\")\n",
    "    tokenized_data.append(tokenized_item)\n",
    "\n",
    "len(tokenized_data[0])"
   ]
  },
  {
   "cell_type": "markdown",
   "metadata": {},
   "source": [
    "### 4. Split the data"
   ]
  },
  {
   "cell_type": "markdown",
   "metadata": {},
   "source": [
    "We need to be careful when splitting the data. We want to keep the multi-turn conversations complete in each part. So, the training and validation sets should start with a `You` message and end with an `Assistant` message."
   ]
  },
  {
   "cell_type": "code",
   "execution_count": 5,
   "metadata": {},
   "outputs": [
    {
     "name": "stdout",
     "output_type": "stream",
     "text": [
      "Training set: \n",
      "Start message: <|startoftext|>La Wikipedia Del Porno(Andres)\n",
      "End message: <|startoftext|>La Wikipedia Del Porno(Andres)\n",
      "\n",
      "Validation set: \n",
      "Start message: <|startoftext|>Pedro Guill Ferri\n",
      "End message: <|startoftext|>La Wikipedia Del Porno(Andres)\n"
     ]
    }
   ],
   "source": [
    "initial_split_index = int(0.95 * len(data))\n",
    "\n",
    "# Adjusting the index to ensure that the training set ends with \"Assistant\" message\n",
    "# and that the validation set starts with \"You\" message\n",
    "\n",
    "# Scanning backward to find an Assistant message\n",
    "split_index = initial_split_index\n",
    "while split_index > 0 and not data[split_index-1].startswith('<|startoftext|>La Wikipedia Del Porno(Andres)'):\n",
    "    split_index -= 1\n",
    "\n",
    "train_data = data[:split_index]\n",
    "val_data = data[split_index:]\n",
    "\n",
    "print(\"Training set: \")\n",
    "print(f\"Start message: {train_data[0].split('<|separator|>')[0]}\")\n",
    "print(f\"End message: {train_data[-1].split('<|separator|>')[0]}\")\n",
    "\n",
    "print(\"\\nValidation set: \")\n",
    "print(f\"Start message: {val_data[0].split('<|separator|>')[0]}\")\n",
    "print(f\"End message: {val_data[-1].split('<|separator|>')[0]}\")"
   ]
  },
  {
   "cell_type": "markdown",
   "metadata": {},
   "source": [
    "We got the index that we should use to split the data. Now, let's split the tokenized data."
   ]
  },
  {
   "cell_type": "code",
   "execution_count": 6,
   "metadata": {},
   "outputs": [],
   "source": [
    "train_data = tokenized_data[:split_index]\n",
    "val_data = tokenized_data[split_index:]"
   ]
  },
  {
   "cell_type": "markdown",
   "metadata": {},
   "source": [
    "Now, we need to combine the `You` and `Assistant` turns into one sequence. We will make sure that the resulting sequence does not exceed the `block_size`."
   ]
  },
  {
   "cell_type": "code",
   "execution_count": 7,
   "metadata": {},
   "outputs": [],
   "source": [
    "block_size = 256\n",
    "\n",
    "\n",
    "def combine_turns(data: list[list[int]], should_trim_long_sequences: bool) -> list[list[int]]:\n",
    "    combined_turns_data = []\n",
    "    for i in range(0, len(data)-1, 2):\n",
    "        you_message = data[i]\n",
    "        assistant_message = data[i+1]\n",
    "        if not you_message or not assistant_message:\n",
    "            continue\n",
    "\n",
    "        final_message = you_message + assistant_message\n",
    "        if len(final_message) > block_size and should_trim_long_sequences:\n",
    "            final_message = final_message[-block_size:]\n",
    "\n",
    "        combined_turns_data.append(final_message)\n",
    "    return combined_turns_data\n",
    "\n",
    "\n",
    "combined_train_data = combine_turns(\n",
    "    data=train_data,\n",
    "    should_trim_long_sequences=True\n",
    ")\n",
    "combined_val_data = combine_turns(\n",
    "    data=val_data,\n",
    "    should_trim_long_sequences=True\n",
    ")"
   ]
  },
  {
   "cell_type": "code",
   "execution_count": 8,
   "metadata": {},
   "outputs": [
    {
     "name": "stdout",
     "output_type": "stream",
     "text": [
      "Train data\n",
      "Length before: 10405\n",
      "Length after: 5202\n",
      "\n",
      "Validation data\n",
      "Length before: 548\n",
      "Length after: 274\n"
     ]
    }
   ],
   "source": [
    "print(\"Train data\")\n",
    "print(f\"Length before: {len(train_data)}\")\n",
    "print(f\"Length after: {len(combined_train_data)}\")\n",
    "\n",
    "print(\"\\nValidation data\")\n",
    "print(f\"Length before: {len(val_data)}\")\n",
    "print(f\"Length after: {len(combined_val_data)}\")"
   ]
  },
  {
   "cell_type": "markdown",
   "metadata": {},
   "source": [
    "Let's convert each sequence of tokens into a tensor."
   ]
  },
  {
   "cell_type": "code",
   "execution_count": 9,
   "metadata": {},
   "outputs": [
    {
     "ename": "ValueError",
     "evalue": "expected sequence of length 137 at dim 1 (got 78)",
     "output_type": "error",
     "traceback": [
      "\u001b[31m---------------------------------------------------------------------------\u001b[39m",
      "\u001b[31mValueError\u001b[39m                                Traceback (most recent call last)",
      "\u001b[36mCell\u001b[39m\u001b[36m \u001b[39m\u001b[32mIn[9]\u001b[39m\u001b[32m, line 3\u001b[39m\n\u001b[32m      1\u001b[39m \u001b[38;5;28;01mimport\u001b[39;00m\u001b[38;5;250m \u001b[39m\u001b[34;01mtorch\u001b[39;00m\n\u001b[32m----> \u001b[39m\u001b[32m3\u001b[39m train_data = \u001b[43mtorch\u001b[49m\u001b[43m.\u001b[49m\u001b[43mtensor\u001b[49m\u001b[43m(\u001b[49m\u001b[43mcombined_train_data\u001b[49m\u001b[43m)\u001b[49m\n\u001b[32m      4\u001b[39m val_data = torch.tensor(combined_val_data)\n",
      "\u001b[31mValueError\u001b[39m: expected sequence of length 137 at dim 1 (got 78)"
     ]
    }
   ],
   "source": [
    "import torch\n",
    "\n",
    "train_data = torch.tensor(combined_train_data)\n",
    "val_data = torch.tensor(combined_val_data)"
   ]
  },
  {
   "cell_type": "markdown",
   "metadata": {},
   "source": [
    "Since our token sequences don't all have the same length, we can't turn the data into a tensor all at once. To do that, all sequences need to have the same length.\n",
    "\n",
    "That's why we need to use padding to fix this problem. We can add padding at the start or end of the sequence. Let's add it to the start."
   ]
  },
  {
   "cell_type": "code",
   "execution_count": 10,
   "metadata": {},
   "outputs": [
    {
     "data": {
      "text/plain": [
       "(torch.Size([5202, 256]), torch.Size([274, 256]))"
      ]
     },
     "execution_count": 10,
     "metadata": {},
     "output_type": "execute_result"
    }
   ],
   "source": [
    "import torch\n",
    "torch.manual_seed(3647)\n",
    "\n",
    "# The token `<|padding|>` is used to mask the padding tokens.\n",
    "# Masking means the model will ignore these tokens during training.\n",
    "# In other words, the loss will not be calculated for these tokens.\n",
    "padding_token = tokenizer.special_tokens[\"<|padding|>\"]\n",
    "\n",
    "\n",
    "def apply_padding_to_data(data: list[list[int]], block_size: int, padding_token: int) -> torch.Tensor:\n",
    "    tensors = []\n",
    "    for i in range(len(data)):\n",
    "        tensor = torch.tensor(data[i])\n",
    "        padded_tensor = torch.nn.functional.pad(\n",
    "            input=tensor,\n",
    "            # for right padding:\n",
    "            pad=(0, block_size - len(tensor)),\n",
    "            # pad=(block_size - len(tensor), 0),\n",
    "            value=padding_token\n",
    "        )\n",
    "        tensors.append(padded_tensor)\n",
    "\n",
    "    return torch.stack(tensors)\n",
    "\n",
    "\n",
    "train_data_tensor = apply_padding_to_data(\n",
    "    data=combined_train_data,\n",
    "    block_size=block_size,\n",
    "    padding_token=padding_token\n",
    ")\n",
    "val_data_tensor = apply_padding_to_data(\n",
    "    data=combined_val_data,\n",
    "    block_size=block_size,\n",
    "    padding_token=padding_token\n",
    ")\n",
    "\n",
    "train_data_tensor.shape, val_data_tensor.shape"
   ]
  },
  {
   "cell_type": "code",
   "execution_count": 11,
   "metadata": {},
   "outputs": [
    {
     "data": {
      "text/plain": [
       "tensor([1024,   76,   97,   32,   87,  105,  690,  369,  298,   97,   32,   68,\n",
       "         538,   32,  635,  588,   40,  866,  570,  265,   41, 1025,   87,  101,\n",
       "          63,   10,   84,  101,   32,  406,  381,  115,  426,   63,   10,   65,\n",
       "         121,  101,   10,   79,  121,  101,   42,   10,  691,   98,  307,   32,\n",
       "          98,  108,  293,  107,   32,  288,  416,   10,   67,  391,  111,   32,\n",
       "         524,   32,  558,   32,  109,  305,  307,   32,  334,   32,  299,  547,\n",
       "          32,   99,  381,  111,   32,  292,   32,  334,  801,  105,  111,   32,\n",
       "         524,   32,  356,  321,   32,  100,  505,  111,   32,  334,  108,   32,\n",
       "         103,  381,  943,  105,  111,   32,  334,   32,  299,  547,   10,   72,\n",
       "         299,   32,  422,  308,  561,   32,  265,  111,   32,  588,   63, 1026,\n",
       "        1024,   80,  101,  100,  458,   32,   71,  117,  105,  361,   32,   70,\n",
       "         261,  381, 1025,  673, 1026, 1028, 1028, 1028, 1028, 1028, 1028, 1028,\n",
       "        1028, 1028, 1028, 1028, 1028, 1028, 1028, 1028, 1028, 1028, 1028, 1028,\n",
       "        1028, 1028, 1028, 1028, 1028, 1028, 1028, 1028, 1028, 1028, 1028, 1028,\n",
       "        1028, 1028, 1028, 1028, 1028, 1028, 1028, 1028, 1028, 1028, 1028, 1028,\n",
       "        1028, 1028, 1028, 1028, 1028, 1028, 1028, 1028, 1028, 1028, 1028, 1028,\n",
       "        1028, 1028, 1028, 1028, 1028, 1028, 1028, 1028, 1028, 1028, 1028, 1028,\n",
       "        1028, 1028, 1028, 1028, 1028, 1028, 1028, 1028, 1028, 1028, 1028, 1028,\n",
       "        1028, 1028, 1028, 1028, 1028, 1028, 1028, 1028, 1028, 1028, 1028, 1028,\n",
       "        1028, 1028, 1028, 1028, 1028, 1028, 1028, 1028, 1028, 1028, 1028, 1028,\n",
       "        1028, 1028, 1028, 1028, 1028, 1028, 1028, 1028, 1028, 1028, 1028, 1028,\n",
       "        1028, 1028, 1028, 1028])"
      ]
     },
     "execution_count": 11,
     "metadata": {},
     "output_type": "execute_result"
    }
   ],
   "source": [
    "train_data_tensor[0]"
   ]
  },
  {
   "cell_type": "code",
   "execution_count": 12,
   "metadata": {},
   "outputs": [
    {
     "data": {
      "text/plain": [
       "tensor([1024,   80,  101,  100,  458,   32,   71,  117,  105,  361,   32,   70,\n",
       "         261,  381, 1025,  390,  524,   32,  538,   32,  494,  361,  111,   32,\n",
       "          97,   32,  350,  369,  122,  305,  111,   32,   97,   32,  380,  261,\n",
       "          32,  106,  940,  111,  112,  397,  265, 1026, 1024,   76,   97,   32,\n",
       "          87,  105,  690,  369,  298,   97,   32,   68,  538,   32,  635,  588,\n",
       "          40,  866,  570,  265,   41, 1025,  673, 1026, 1028, 1028, 1028, 1028,\n",
       "        1028, 1028, 1028, 1028, 1028, 1028, 1028, 1028, 1028, 1028, 1028, 1028,\n",
       "        1028, 1028, 1028, 1028, 1028, 1028, 1028, 1028, 1028, 1028, 1028, 1028,\n",
       "        1028, 1028, 1028, 1028, 1028, 1028, 1028, 1028, 1028, 1028, 1028, 1028,\n",
       "        1028, 1028, 1028, 1028, 1028, 1028, 1028, 1028, 1028, 1028, 1028, 1028,\n",
       "        1028, 1028, 1028, 1028, 1028, 1028, 1028, 1028, 1028, 1028, 1028, 1028,\n",
       "        1028, 1028, 1028, 1028, 1028, 1028, 1028, 1028, 1028, 1028, 1028, 1028,\n",
       "        1028, 1028, 1028, 1028, 1028, 1028, 1028, 1028, 1028, 1028, 1028, 1028,\n",
       "        1028, 1028, 1028, 1028, 1028, 1028, 1028, 1028, 1028, 1028, 1028, 1028,\n",
       "        1028, 1028, 1028, 1028, 1028, 1028, 1028, 1028, 1028, 1028, 1028, 1028,\n",
       "        1028, 1028, 1028, 1028, 1028, 1028, 1028, 1028, 1028, 1028, 1028, 1028,\n",
       "        1028, 1028, 1028, 1028, 1028, 1028, 1028, 1028, 1028, 1028, 1028, 1028,\n",
       "        1028, 1028, 1028, 1028, 1028, 1028, 1028, 1028, 1028, 1028, 1028, 1028,\n",
       "        1028, 1028, 1028, 1028, 1028, 1028, 1028, 1028, 1028, 1028, 1028, 1028,\n",
       "        1028, 1028, 1028, 1028, 1028, 1028, 1028, 1028, 1028, 1028, 1028, 1028,\n",
       "        1028, 1028, 1028, 1028, 1028, 1028, 1028, 1028, 1028, 1028, 1028, 1028,\n",
       "        1028, 1028, 1028, 1028])"
      ]
     },
     "execution_count": 12,
     "metadata": {},
     "output_type": "execute_result"
    }
   ],
   "source": [
    "val_data_tensor[0]"
   ]
  },
  {
   "cell_type": "markdown",
   "metadata": {},
   "source": [
    "### 5. Creat the data loaders"
   ]
  },
  {
   "cell_type": "code",
   "execution_count": 13,
   "metadata": {},
   "outputs": [
    {
     "data": {
      "text/plain": [
       "torch.Size([5202, 256])"
      ]
     },
     "execution_count": 13,
     "metadata": {},
     "output_type": "execute_result"
    }
   ],
   "source": [
    "train_data_tensor.shape"
   ]
  },
  {
   "cell_type": "code",
   "execution_count": 15,
   "metadata": {},
   "outputs": [],
   "source": [
    "from typing import Tuple\n",
    "from torch.utils.data import Dataset, DataLoader\n",
    "\n",
    "\n",
    "class FineTuningDataset(Dataset):\n",
    "    def __init__(self, data: torch.Tensor, device: torch.device, padding_token: int):\n",
    "        self.data = data  # shape: (num_samples, block_size)\n",
    "        self.device = device\n",
    "        self.padding_token = padding_token\n",
    "\n",
    "    def __len__(self) -> int:\n",
    "        return len(self.data)\n",
    "\n",
    "    def __getitem__(self, index: int) -> Tuple[torch.Tensor, torch.Tensor]:\n",
    "        sample = self.data[index]\n",
    "        x = sample.to(self.device)\n",
    "        y = sample[1:].to(self.device)\n",
    "        padding_tensor = torch.tensor([self.padding_token], device=self.device)\n",
    "        y = torch.cat((y, padding_tensor))\n",
    "        return x, y\n",
    "\n",
    "\n",
    "batch_size = 64\n",
    "device = torch.device(\"cuda\" if torch.cuda.is_available() else \"cpu\")\n",
    "\n",
    "train_dataset = FineTuningDataset(\n",
    "    data=train_data_tensor,\n",
    "    device=device,\n",
    "    padding_token=padding_token\n",
    ")\n",
    "train_loader = DataLoader(\n",
    "    dataset=train_dataset,\n",
    "    batch_size=batch_size,\n",
    "    shuffle=True\n",
    ")\n",
    "\n",
    "val_dataset = FineTuningDataset(\n",
    "    data=val_data_tensor,\n",
    "    device=device,\n",
    "    padding_token=padding_token\n",
    ")\n",
    "val_loader = DataLoader(\n",
    "    dataset=val_dataset,\n",
    "    batch_size=batch_size,\n",
    "    shuffle=False\n",
    ")"
   ]
  },
  {
   "cell_type": "code",
   "execution_count": 16,
   "metadata": {},
   "outputs": [
    {
     "data": {
      "text/plain": [
       "(torch.Size([64, 256]), torch.Size([64, 256]))"
      ]
     },
     "execution_count": 16,
     "metadata": {},
     "output_type": "execute_result"
    }
   ],
   "source": [
    "x, y = next(iter(train_loader))\n",
    "x.shape, y.shape"
   ]
  },
  {
   "cell_type": "markdown",
   "metadata": {},
   "source": [
    "## Fine-tuning"
   ]
  },
  {
   "cell_type": "markdown",
   "metadata": {},
   "source": [
    "### 1. Load the saved checkpoint"
   ]
  },
  {
   "cell_type": "code",
   "execution_count": 18,
   "metadata": {},
   "outputs": [
    {
     "name": "stdout",
     "output_type": "stream",
     "text": [
      "13.795338 M parameters\n"
     ]
    }
   ],
   "source": [
    "from transformer.model import GPTLanguageModel\n",
    "\n",
    "block_size = 256\n",
    "n_embd = 512\n",
    "n_head = 8\n",
    "n_layer = 4\n",
    "dropout = 0.2\n",
    "batch_size = 64\n",
    "vocab_size = get_vocab_size(tokenizer)\n",
    "\n",
    "model = GPTLanguageModel(\n",
    "    vocab_size=vocab_size,\n",
    "    block_size=block_size,\n",
    "    n_embd=n_embd,\n",
    "    n_head=n_head,\n",
    "    n_layer=n_layer,\n",
    "    dropout=dropout,\n",
    "    device=device,\n",
    "    ignore_index=tokenizer.special_tokens[\"<|padding|>\"],\n",
    ").to(device)\n",
    "model = torch.compile(model)\n",
    "\n",
    "print(sum(p.numel() for p in model.parameters())/1e6, 'M parameters')"
   ]
  },
  {
   "cell_type": "code",
   "execution_count": null,
   "metadata": {},
   "outputs": [
    {
     "data": {
      "text/plain": [
       "<All keys matched successfully>"
      ]
     },
     "execution_count": 19,
     "metadata": {},
     "output_type": "execute_result"
    }
   ],
   "source": [
    "checkpoint_path = \"../output/pre_training/base_model_checkpoint.pth\"\n",
    "checkpoint = torch.load(checkpoint_path, weights_only=True)\n",
    "model_state_dict = checkpoint[\"model_state_dict\"]\n",
    "model.load_state_dict(model_state_dict)"
   ]
  },
  {
   "cell_type": "markdown",
   "metadata": {},
   "source": [
    "Generate from the model to make sure that the weights were loaded correctly."
   ]
  },
  {
   "cell_type": "code",
   "execution_count": 20,
   "metadata": {},
   "outputs": [
    {
     "name": "stdout",
     "output_type": "stream",
     "text": [
      "Salam labas am :v Pepe What Pues no lo has todos Solo q te salir estas en clase Del de movil Jajajajaja xD Dale Toy no salio no busca jajajajaja Toma paja coño acabo de gradugar solo vida la mañana Que voy por el dios mio doble Su puta madre me faltan pokita esa madre xD Bro de tarde por ella foto de las 160 minutos no? Stista \n"
     ]
    }
   ],
   "source": [
    "input_tokens = tokenizer.encode(\"Salam labas \", allowed_special=\"all\")\n",
    "input_tokens = torch.tensor(\n",
    "    input_tokens, dtype=torch.long).unsqueeze(0).to(device)\n",
    "\n",
    "model.eval()\n",
    "with torch.no_grad():\n",
    "    output = model.generate(input_tokens=input_tokens, max_new_tokens=100)\n",
    "\n",
    "print(tokenizer.decode(output[0].tolist()))"
   ]
  },
  {
   "cell_type": "markdown",
   "metadata": {},
   "source": [
    "### 2. Estimate loss"
   ]
  },
  {
   "cell_type": "code",
   "execution_count": 21,
   "metadata": {},
   "outputs": [],
   "source": [
    "from typing import Dict\n",
    "\n",
    "\n",
    "@torch.no_grad()\n",
    "def estimate_loss(\n",
    "    model: torch.nn.Module,\n",
    "    train_loader: DataLoader,\n",
    "    val_loader: DataLoader,\n",
    ") -> Dict[str, float]:\n",
    "    output = {}\n",
    "    model.eval()\n",
    "\n",
    "    for split, loader in [('train', train_loader), ('val', val_loader)]:\n",
    "        losses = []\n",
    "        for x, y in loader:\n",
    "            with torch.no_grad():\n",
    "                _, loss = model(x, y)\n",
    "            losses.append(loss.item())\n",
    "        output[split] = sum(losses) / len(losses)\n",
    "\n",
    "    model.train()\n",
    "    return output"
   ]
  },
  {
   "cell_type": "markdown",
   "metadata": {},
   "source": [
    "### 3. Save checkpoints"
   ]
  },
  {
   "cell_type": "code",
   "execution_count": 22,
   "metadata": {},
   "outputs": [],
   "source": [
    "def save_checkpoint(\n",
    "    model: GPTLanguageModel,\n",
    "    optimizer: torch.optim.Optimizer,\n",
    "    epoch: int,\n",
    "    loss: float,\n",
    "    file_path: str = \"checkpoint.pth\"\n",
    ") -> None:\n",
    "    checkpoint = {\n",
    "        'epoch': epoch,\n",
    "        'model_state_dict': model.state_dict(),\n",
    "        'optimizer_state_dict': optimizer.state_dict(),\n",
    "        'loss': loss\n",
    "    }\n",
    "    torch.save(checkpoint, file_path)"
   ]
  },
  {
   "cell_type": "markdown",
   "metadata": {},
   "source": [
    "### 4. Training loop"
   ]
  },
  {
   "cell_type": "code",
   "execution_count": 24,
   "metadata": {},
   "outputs": [
    {
     "name": "stdout",
     "output_type": "stream",
     "text": [
      "iteration 0 / step 0: train loss 1.9227, val loss 2.4710\n",
      "iteration 0 / step 20: train loss 1.8439, val loss 2.4213\n",
      "iteration 0 / step 40: train loss 1.7785, val loss 2.3789\n",
      "iteration 0 / step 60: train loss 1.7373, val loss 2.3740\n",
      "iteration 0 / step 80: train loss 1.7091, val loss 2.3639\n",
      "iteration 0 / step 81: train loss 1.7066, val loss 2.3603\n",
      "iteration 1 / step 0: train loss 1.7084, val loss 2.3551\n",
      "iteration 1 / step 20: train loss 1.6843, val loss 2.3616\n",
      "iteration 1 / step 40: train loss 1.6601, val loss 2.3685\n",
      "iteration 1 / step 60: train loss 1.6418, val loss 2.3702\n",
      "iteration 1 / step 80: train loss 1.6237, val loss 2.3468\n",
      "iteration 1 / step 81: train loss 1.6235, val loss 2.3520\n",
      "iteration 2 / step 0: train loss 1.6249, val loss 2.3551\n",
      "iteration 2 / step 20: train loss 1.6084, val loss 2.3557\n",
      "iteration 2 / step 40: train loss 1.5904, val loss 2.3457\n",
      "iteration 2 / step 60: train loss 1.5768, val loss 2.3226\n",
      "iteration 2 / step 80: train loss 1.5659, val loss 2.3376\n",
      "iteration 2 / step 81: train loss 1.5672, val loss 2.3428\n",
      "iteration 3 / step 0: train loss 1.5686, val loss 2.3463\n",
      "iteration 3 / step 20: train loss 1.5476, val loss 2.3485\n",
      "iteration 3 / step 40: train loss 1.5379, val loss 2.3457\n",
      "iteration 3 / step 60: train loss 1.5271, val loss 2.3352\n",
      "iteration 3 / step 80: train loss 1.5158, val loss 2.3382\n",
      "iteration 3 / step 81: train loss 1.5132, val loss 2.3410\n",
      "iteration 4 / step 0: train loss 1.5137, val loss 2.3363\n",
      "iteration 4 / step 20: train loss 1.5008, val loss 2.3017\n",
      "iteration 4 / step 40: train loss 1.4906, val loss 2.2911\n",
      "iteration 4 / step 60: train loss 1.4780, val loss 2.3187\n",
      "iteration 4 / step 80: train loss 1.4733, val loss 2.3269\n",
      "iteration 4 / step 81: train loss 1.4728, val loss 2.3251\n",
      "iteration 5 / step 0: train loss 1.4703, val loss 2.3173\n",
      "iteration 5 / step 20: train loss 1.4619, val loss 2.3141\n",
      "iteration 5 / step 40: train loss 1.4477, val loss 2.2916\n",
      "iteration 5 / step 60: train loss 1.4425, val loss 2.2773\n",
      "iteration 5 / step 80: train loss 1.4337, val loss 2.2652\n",
      "iteration 5 / step 81: train loss 1.4314, val loss 2.2651\n",
      "iteration 6 / step 0: train loss 1.4344, val loss 2.2621\n",
      "iteration 6 / step 20: train loss 1.4232, val loss 2.2806\n",
      "iteration 6 / step 40: train loss 1.4129, val loss 2.2853\n",
      "iteration 6 / step 60: train loss 1.4038, val loss 2.2655\n",
      "iteration 6 / step 80: train loss 1.3997, val loss 2.2618\n",
      "iteration 6 / step 81: train loss 1.3999, val loss 2.2585\n",
      "iteration 7 / step 0: train loss 1.3999, val loss 2.2583\n",
      "iteration 7 / step 20: train loss 1.3921, val loss 2.3087\n",
      "iteration 7 / step 40: train loss 1.3807, val loss 2.2895\n",
      "iteration 7 / step 60: train loss 1.3719, val loss 2.2752\n",
      "iteration 7 / step 80: train loss 1.3645, val loss 2.2940\n",
      "iteration 7 / step 81: train loss 1.3651, val loss 2.2902\n",
      "iteration 8 / step 0: train loss 1.3688, val loss 2.2858\n",
      "iteration 8 / step 20: train loss 1.3523, val loss 2.2729\n",
      "iteration 8 / step 40: train loss 1.3459, val loss 2.2904\n",
      "iteration 8 / step 60: train loss 1.3373, val loss 2.2892\n",
      "iteration 8 / step 80: train loss 1.3357, val loss 2.2665\n",
      "iteration 8 / step 81: train loss 1.3346, val loss 2.2676\n",
      "iteration 9 / step 0: train loss 1.3359, val loss 2.2695\n",
      "iteration 9 / step 20: train loss 1.3239, val loss 2.3025\n",
      "iteration 9 / step 40: train loss 1.3174, val loss 2.3147\n",
      "iteration 9 / step 60: train loss 1.3120, val loss 2.3308\n",
      "iteration 9 / step 80: train loss 1.3090, val loss 2.2910\n",
      "iteration 9 / step 81: train loss 1.3060, val loss 2.2930\n",
      "iteration 10 / step 0: train loss 1.3039, val loss 2.2982\n",
      "iteration 10 / step 20: train loss 1.2937, val loss 2.3112\n",
      "iteration 10 / step 40: train loss 1.2870, val loss 2.3224\n",
      "iteration 10 / step 60: train loss 1.2878, val loss 2.3038\n",
      "iteration 10 / step 80: train loss 1.2771, val loss 2.3041\n",
      "iteration 10 / step 81: train loss 1.2772, val loss 2.3082\n",
      "iteration 11 / step 0: train loss 1.2789, val loss 2.3108\n",
      "iteration 11 / step 20: train loss 1.2671, val loss 2.3231\n",
      "iteration 11 / step 40: train loss 1.2645, val loss 2.3147\n",
      "iteration 11 / step 60: train loss 1.2569, val loss 2.3432\n",
      "iteration 11 / step 80: train loss 1.2506, val loss 2.3209\n",
      "iteration 11 / step 81: train loss 1.2510, val loss 2.3195\n",
      "iteration 12 / step 0: train loss 1.2509, val loss 2.3300\n",
      "iteration 12 / step 20: train loss 1.2457, val loss 2.3405\n",
      "iteration 12 / step 40: train loss 1.2401, val loss 2.3421\n",
      "iteration 12 / step 60: train loss 1.2317, val loss 2.3344\n",
      "iteration 12 / step 80: train loss 1.2257, val loss 2.3203\n",
      "iteration 12 / step 81: train loss 1.2245, val loss 2.3198\n",
      "iteration 13 / step 0: train loss 1.2235, val loss 2.3171\n",
      "iteration 13 / step 20: train loss 1.2210, val loss 2.3461\n",
      "iteration 13 / step 40: train loss 1.2155, val loss 2.3611\n",
      "iteration 13 / step 60: train loss 1.2057, val loss 2.3493\n",
      "iteration 13 / step 80: train loss 1.2011, val loss 2.3349\n",
      "iteration 13 / step 81: train loss 1.2007, val loss 2.3412\n",
      "iteration 14 / step 0: train loss 1.2016, val loss 2.3447\n",
      "iteration 14 / step 20: train loss 1.1949, val loss 2.3682\n",
      "iteration 14 / step 40: train loss 1.1934, val loss 2.3366\n",
      "iteration 14 / step 60: train loss 1.1843, val loss 2.3608\n",
      "iteration 14 / step 80: train loss 1.1759, val loss 2.3659\n",
      "iteration 14 / step 81: train loss 1.1773, val loss 2.3614\n",
      "iteration 15 / step 0: train loss 1.1799, val loss 2.3594\n",
      "iteration 15 / step 20: train loss 1.1737, val loss 2.3746\n",
      "iteration 15 / step 40: train loss 1.1668, val loss 2.3806\n",
      "iteration 15 / step 60: train loss 1.1616, val loss 2.3938\n",
      "iteration 15 / step 80: train loss 1.1601, val loss 2.3804\n",
      "iteration 15 / step 81: train loss 1.1578, val loss 2.3820\n",
      "iteration 16 / step 0: train loss 1.1563, val loss 2.3794\n",
      "iteration 16 / step 20: train loss 1.1502, val loss 2.4056\n",
      "iteration 16 / step 40: train loss 1.1495, val loss 2.3961\n",
      "iteration 16 / step 60: train loss 1.1415, val loss 2.3739\n",
      "iteration 16 / step 80: train loss 1.1367, val loss 2.3794\n",
      "iteration 16 / step 81: train loss 1.1349, val loss 2.3864\n",
      "iteration 17 / step 0: train loss 1.1338, val loss 2.3978\n",
      "iteration 17 / step 20: train loss 1.1302, val loss 2.4029\n",
      "iteration 17 / step 40: train loss 1.1248, val loss 2.3923\n",
      "iteration 17 / step 60: train loss 1.1211, val loss 2.3986\n",
      "iteration 17 / step 80: train loss 1.1130, val loss 2.3872\n",
      "iteration 17 / step 81: train loss 1.1141, val loss 2.3860\n",
      "iteration 18 / step 0: train loss 1.1144, val loss 2.3842\n",
      "iteration 18 / step 20: train loss 1.1079, val loss 2.3981\n",
      "iteration 18 / step 40: train loss 1.0999, val loss 2.3837\n",
      "iteration 18 / step 60: train loss 1.1012, val loss 2.3928\n",
      "iteration 18 / step 80: train loss 1.0971, val loss 2.3828\n",
      "iteration 18 / step 81: train loss 1.0952, val loss 2.3807\n",
      "iteration 19 / step 0: train loss 1.0953, val loss 2.3820\n",
      "iteration 19 / step 20: train loss 1.0882, val loss 2.4087\n",
      "iteration 19 / step 40: train loss 1.0855, val loss 2.4023\n",
      "iteration 19 / step 60: train loss 1.0788, val loss 2.3977\n",
      "iteration 19 / step 80: train loss 1.0723, val loss 2.4029\n",
      "iteration 19 / step 81: train loss 1.0727, val loss 2.3982\n"
     ]
    }
   ],
   "source": [
    "max_iters = 20\n",
    "eval_interval = 20\n",
    "learning_rate = 6e-5\n",
    "\n",
    "optimizer = torch.optim.AdamW(model.parameters(), lr=learning_rate)\n",
    "train_losses = []\n",
    "val_losses = []\n",
    "\n",
    "for iteration in range(max_iters):\n",
    "    for batch_idx, (x_batch, y_batch) in enumerate(train_loader):\n",
    "        # Evaluation\n",
    "        if batch_idx % eval_interval == 0 or batch_idx == len(train_loader) - 1:\n",
    "            losses = estimate_loss(\n",
    "                model=model,\n",
    "                train_loader=train_loader,\n",
    "                val_loader=val_loader,\n",
    "            )\n",
    "            train_losses.append(losses['train'])\n",
    "            val_losses.append(losses['val'])\n",
    "\n",
    "            print(\n",
    "                f\"iteration {iteration} / step {batch_idx}: \"\n",
    "                f\"train loss {losses['train']:.4f}, \"\n",
    "                f\"val loss {losses['val']:.4f}\"\n",
    "            )\n",
    "\n",
    "        # Training step\n",
    "        logits, loss = model(x_batch, y_batch)\n",
    "        optimizer.zero_grad(set_to_none=True)\n",
    "        loss.backward()\n",
    "        optimizer.step()\n",
    "\n",
    "    # Save checkpoint\n",
    "    save_checkpoint(\n",
    "        model=model,\n",
    "        optimizer=optimizer,\n",
    "        epoch=iteration,\n",
    "        loss=loss.item(),\n",
    "        file_path=f\"../output/fine_tuning/run_3/checkpoint_{iteration}.pth\"\n",
    "    )"
   ]
  },
  {
   "cell_type": "code",
   "execution_count": 25,
   "metadata": {},
   "outputs": [
    {
     "data": {
      "image/png": "[encoded data removed]",
      "text/plain": [
       "<Figure size 1000x500 with 1 Axes>"
      ]
     },
     "metadata": {},
     "output_type": "display_data"
    }
   ],
   "source": [
    "import matplotlib.pyplot as plt\n",
    "\n",
    "plt.figure(figsize=(10, 5))\n",
    "plt.plot(train_losses, label=\"Train Loss\")\n",
    "plt.plot(val_losses, label=\"Validation Loss\")\n",
    "plt.xlabel(\"Evaluation Step\")\n",
    "plt.ylabel(\"Loss\")\n",
    "plt.title(\"Training and Validation Loss Over Time\")\n",
    "plt.legend()\n",
    "plt.grid()\n",
    "plt.show()"
   ]
  },
  {
   "cell_type": "code",
   "execution_count": 43,
   "metadata": {},
   "outputs": [
    {
     "name": "stdout",
     "output_type": "stream",
     "text": [
      "You: Hola bro.\n",
      "Assistant: creo mundo a que no me las faltante muertos\n",
      "xD\n",
      "Eso cerraro\n"
     ]
    }
   ],
   "source": [
    "def get_input_tokens(message: str) -> torch.Tensor:\n",
    "    input_tokens = tokenizer.encode(\n",
    "        f\"<|startoftext|>{message}<|separator|>\", allowed_special=\"all\")\n",
    "    input_tokens = torch.tensor(\n",
    "        input_tokens, dtype=torch.long).unsqueeze(0).to(device)\n",
    "    return input_tokens\n",
    "\n",
    "\n",
    "user_message = \"Hola bro.\"\n",
    "input_tokens = get_input_tokens(message=user_message)\n",
    "model_answer = \"\"\n",
    "\n",
    "model.eval()\n",
    "while True:\n",
    "    output_tokens = model.generate(input_tokens=input_tokens, max_new_tokens=1)\n",
    "    last_generated_token = output_tokens[0, -1].item()\n",
    "    if last_generated_token == tokenizer.special_tokens[\"<|endoftext|>\"]:\n",
    "        break\n",
    "\n",
    "    input_tokens = torch.cat((input_tokens, output_tokens[:, -1:]), dim=1)\n",
    "    model_answer += tokenizer.decode([last_generated_token])\n",
    "\n",
    "    if len(output_tokens[0]) > block_size:\n",
    "        input_tokens = input_tokens[:, -block_size:]\n",
    "\n",
    "print(f\"You: {user_message}\")\n",
    "print(f\"Assistant: {model_answer}\")"
   ]
  },
  {
   "cell_type": "code",
   "execution_count": null,
   "metadata": {},
   "outputs": [],
   "source": []
  },
  {
   "cell_type": "code",
   "execution_count": null,
   "metadata": {},
   "outputs": [],
   "source": []
  },
  {
   "cell_type": "code",
   "execution_count": null,
   "metadata": {},
   "outputs": [],
   "source": []
  }
 ],
 "metadata": {
  "kernelspec": {
   "display_name": ".venv",
   "language": "python",
   "name": "python3"
  },
  "language_info": {
   "codemirror_mode": {
    "name": "ipython",
    "version": 3
   },
   "file_extension": ".py",
   "mimetype": "text/x-python",
   "name": "python",
   "nbconvert_exporter": "python",
   "pygments_lexer": "ipython3",
   "version": "3.12.3"
  }
 },
 "nbformat": 4,
 "nbformat_minor": 2
}
